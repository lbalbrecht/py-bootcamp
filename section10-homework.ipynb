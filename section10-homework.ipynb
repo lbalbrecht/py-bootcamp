{
 "cells": [
  {
   "cell_type": "markdown",
   "id": "77517d5c",
   "metadata": {},
   "source": [
    "### Handle the exception thrown by the code below by using try and except blocks"
   ]
  },
  {
   "cell_type": "code",
   "execution_count": 29,
   "id": "cf84a44f",
   "metadata": {},
   "outputs": [
    {
     "name": "stdout",
     "output_type": "stream",
     "text": [
      "Incorrect datatype for 'a': <class 'str'>\n",
      "Incorrect datatype for 'b': <class 'str'>\n",
      "Incorrect datatype for 'c': <class 'str'>\n"
     ]
    }
   ],
   "source": [
    "for i in ['a','b','c']:\n",
    "    try:\n",
    "        print(i**2)\n",
    "    except TypeError:\n",
    "        print(f\"Incorrect datatype for '{i}': {type(i)}\")"
   ]
  },
  {
   "cell_type": "markdown",
   "id": "262fbe19",
   "metadata": {},
   "source": [
    " "
   ]
  },
  {
   "cell_type": "markdown",
   "id": "31416682",
   "metadata": {},
   "source": [
    "### Handle the exception using try and except blocks and add a finally block to print \"Well done\""
   ]
  },
  {
   "cell_type": "code",
   "execution_count": 31,
   "id": "8cbea809",
   "metadata": {},
   "outputs": [
    {
     "name": "stdout",
     "output_type": "stream",
     "text": [
      "Cannot divide by zero\n",
      "Well Done\n"
     ]
    }
   ],
   "source": [
    "x = 5\n",
    "y = 0\n",
    "\n",
    "try:\n",
    "    z = x/y\n",
    "except TypeError:\n",
    "    print(\"Type Error\")\n",
    "except ZeroDivisionError:\n",
    "    print(\"Cannot divide by zero\")\n",
    "except:\n",
    "    print(\"Error\")\n",
    "else:\n",
    "    print(z)\n",
    "finally: \n",
    "    print(\"Well Done\")\n",
    "\n"
   ]
  },
  {
   "cell_type": "markdown",
   "id": "98b2862b",
   "metadata": {},
   "source": [
    " "
   ]
  },
  {
   "cell_type": "markdown",
   "id": "d93f4864",
   "metadata": {},
   "source": [
    "### Write a function that asks fo an integer and prints the square of it. Use a while loop with a try, except, else block to account for incorrect inputs"
   ]
  },
  {
   "cell_type": "code",
   "execution_count": 34,
   "id": "f9c69e23",
   "metadata": {},
   "outputs": [],
   "source": [
    "def ask():\n",
    "    while True:\n",
    "        try:\n",
    "            result = int(input(\"Enter a number to square it: \"))**2\n",
    "        except:\n",
    "            print(\"Type error, please enter a digit\")\n",
    "        else:\n",
    "            print(f\"The square of that number is: {result}\")\n",
    "            break"
   ]
  },
  {
   "cell_type": "code",
   "execution_count": 35,
   "id": "0b15f488",
   "metadata": {},
   "outputs": [
    {
     "name": "stdout",
     "output_type": "stream",
     "text": [
      "Enter a number to square it: 20\n",
      "The square of that number is: 400\n"
     ]
    }
   ],
   "source": [
    "ask()"
   ]
  }
 ],
 "metadata": {
  "kernelspec": {
   "display_name": "Python 3 (ipykernel)",
   "language": "python",
   "name": "python3"
  },
  "language_info": {
   "codemirror_mode": {
    "name": "ipython",
    "version": 3
   },
   "file_extension": ".py",
   "mimetype": "text/x-python",
   "name": "python",
   "nbconvert_exporter": "python",
   "pygments_lexer": "ipython3",
   "version": "3.9.7"
  }
 },
 "nbformat": 4,
 "nbformat_minor": 5
}
