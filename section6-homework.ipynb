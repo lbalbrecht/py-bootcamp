{
 "cells": [
  {
   "cell_type": "code",
   "execution_count": 71,
   "id": "635169d4",
   "metadata": {},
   "outputs": [],
   "source": [
    "# Write a program to compute the volume of a sphere\n",
    "\n",
    "def vol(rad):\n",
    "    return (4/3)*(3.14*(rad**3))"
   ]
  },
  {
   "cell_type": "code",
   "execution_count": 72,
   "id": "7d30f555",
   "metadata": {},
   "outputs": [
    {
     "data": {
      "text/plain": [
       "33.49333333333333"
      ]
     },
     "execution_count": 72,
     "metadata": {},
     "output_type": "execute_result"
    }
   ],
   "source": [
    "vol(2)"
   ]
  },
  {
   "cell_type": "code",
   "execution_count": 99,
   "id": "f0f67187",
   "metadata": {},
   "outputs": [],
   "source": [
    "# Run a function that checks whether a number is in a given range(inclusive)\n",
    "\n",
    "def ran_check(num,low,high):\n",
    "    return low <= num <= high"
   ]
  },
  {
   "cell_type": "code",
   "execution_count": 100,
   "id": "840e20a8",
   "metadata": {},
   "outputs": [],
   "source": [
    "# alt using in range\n",
    "\n",
    "def ran_check(num,low,high):\n",
    "    return low in range(low, high+1)"
   ]
  },
  {
   "cell_type": "code",
   "execution_count": 101,
   "id": "49c60346",
   "metadata": {},
   "outputs": [
    {
     "data": {
      "text/plain": [
       "True"
      ]
     },
     "execution_count": 101,
     "metadata": {},
     "output_type": "execute_result"
    }
   ],
   "source": [
    "ran_check(7,1,10)"
   ]
  },
  {
   "cell_type": "code",
   "execution_count": 87,
   "id": "5ce794c6",
   "metadata": {},
   "outputs": [],
   "source": [
    "# Write a function that accepts a string and calculates the number of upper and lowercase letters\n",
    "\n",
    "def up_low(mystr):\n",
    "    str_upper = 0\n",
    "    str_lower = 0\n",
    "    \n",
    "    for letter in mystr:\n",
    "        if letter.islower():\n",
    "            str_lower += 1\n",
    "        elif letter.isupper():\n",
    "            str_upper += 1\n",
    "        else:\n",
    "            pass\n",
    "    \n",
    "    print(f'Original String: \"{mystr}\"\\nNo. of uppercase letters: {str_upper}\\nNo. of lowercase letters: {str_lower}')"
   ]
  },
  {
   "cell_type": "code",
   "execution_count": 90,
   "id": "86db8e4f",
   "metadata": {},
   "outputs": [],
   "source": [
    "# alt using dictionary rather than separate variables\n",
    "\n",
    "def up_low(mystr):\n",
    "    d = {'upper': 0, 'lower': 0}\n",
    "    \n",
    "    for letter in mystr:\n",
    "        if letter.islower():\n",
    "            d['lower'] += 1\n",
    "        elif letter.isupper():\n",
    "            d['upper'] += 1\n",
    "        else:\n",
    "            pass\n",
    "    \n",
    "    print(f'Original String: \"{mystr}\"\\nNo. of uppercase letters: {d[\"upper\"]}\\nNo. of lowercase letters: {d[\"lower\"]}')"
   ]
  },
  {
   "cell_type": "code",
   "execution_count": 91,
   "id": "2ace585a",
   "metadata": {},
   "outputs": [
    {
     "name": "stdout",
     "output_type": "stream",
     "text": [
      "Original String: \"Hello Mr. Rogers, how are you this fine Tuesday?\"\n",
      "No. of uppercase letters: 4\n",
      "No. of lowercase letters: 33\n"
     ]
    }
   ],
   "source": [
    "s = 'Hello Mr. Rogers, how are you this fine Tuesday?'\n",
    "up_low(s)"
   ]
  },
  {
   "cell_type": "code",
   "execution_count": 94,
   "id": "feebd8cc",
   "metadata": {},
   "outputs": [],
   "source": [
    "# Write a function that takes a list and returns a new list with unique elements of the first list\n",
    "\n",
    "def unique_list(mylist):\n",
    "    myset = set(mylist)\n",
    "    return list(myset)"
   ]
  },
  {
   "cell_type": "code",
   "execution_count": 97,
   "id": "4043743e",
   "metadata": {},
   "outputs": [],
   "source": [
    "# alt using for loop\n",
    "\n",
    "def unique_list(mylist):\n",
    "    seen_numbers = []\n",
    "    for num in mylist:\n",
    "        if num not in seen_numbers:\n",
    "            seen_numbers.append(num)\n",
    "    return seen_numbers"
   ]
  },
  {
   "cell_type": "code",
   "execution_count": 98,
   "id": "e8387728",
   "metadata": {},
   "outputs": [
    {
     "data": {
      "text/plain": [
       "[1, 2, 3, 4, 5]"
      ]
     },
     "execution_count": 98,
     "metadata": {},
     "output_type": "execute_result"
    }
   ],
   "source": [
    "unique_list([1,1,1,1,2,2,3,3,3,3,4,5])"
   ]
  },
  {
   "cell_type": "code",
   "execution_count": 33,
   "id": "12e17c56",
   "metadata": {},
   "outputs": [],
   "source": [
    "# write a function to multiply all numbers in a list\n",
    "\n",
    "def multiply(numbers):\n",
    "    result = 1\n",
    "    for num in numbers:\n",
    "        result *= num\n",
    "        \n",
    "    return result"
   ]
  },
  {
   "cell_type": "code",
   "execution_count": 102,
   "id": "491748bf",
   "metadata": {},
   "outputs": [
    {
     "data": {
      "text/plain": [
       "-240"
      ]
     },
     "execution_count": 102,
     "metadata": {},
     "output_type": "execute_result"
    }
   ],
   "source": [
    "multiply([1,2,3,-4,10])"
   ]
  },
  {
   "cell_type": "code",
   "execution_count": 105,
   "id": "a6955e94",
   "metadata": {},
   "outputs": [],
   "source": [
    "# write a function to check whether a string is a palindrome\n",
    "\n",
    "def ispalindrome(s):\n",
    "    no_space = s.replace(\" \", \"\")\n",
    "    return no_space == no_space[::-1]"
   ]
  },
  {
   "cell_type": "code",
   "execution_count": 108,
   "id": "b84e7312",
   "metadata": {},
   "outputs": [
    {
     "data": {
      "text/plain": [
       "True"
      ]
     },
     "execution_count": 108,
     "metadata": {},
     "output_type": "execute_result"
    }
   ],
   "source": [
    "ispalindrome('helleh')"
   ]
  },
  {
   "cell_type": "code",
   "execution_count": 115,
   "id": "2cf06435",
   "metadata": {},
   "outputs": [],
   "source": [
    "# write a function to check if a string is a pangram\n",
    "\n",
    "import string\n",
    "\n",
    "def is_pangram(s, alphabet=string.ascii_lowercase):\n",
    "    s = s.lower()\n",
    "    s = set(s.replace(\" \", \"\"))\n",
    "\n",
    "    alpha_set = set(alphabet)\n",
    "    result = s.intersection(alpha_set)\n",
    "    \n",
    "    return result == alpha_set"
   ]
  },
  {
   "cell_type": "code",
   "execution_count": 116,
   "id": "9b0c796d",
   "metadata": {},
   "outputs": [
    {
     "data": {
      "text/plain": [
       "True"
      ]
     },
     "execution_count": 116,
     "metadata": {},
     "output_type": "execute_result"
    }
   ],
   "source": [
    "is_pangram(\"The quick brown fox jumps over the lazy dog\")"
   ]
  },
  {
   "cell_type": "code",
   "execution_count": null,
   "id": "de5822a4",
   "metadata": {},
   "outputs": [],
   "source": []
  }
 ],
 "metadata": {
  "kernelspec": {
   "display_name": "Python 3",
   "language": "python",
   "name": "python3"
  },
  "language_info": {
   "codemirror_mode": {
    "name": "ipython",
    "version": 3
   },
   "file_extension": ".py",
   "mimetype": "text/x-python",
   "name": "python",
   "nbconvert_exporter": "python",
   "pygments_lexer": "ipython3",
   "version": "3.8.8"
  }
 },
 "nbformat": 4,
 "nbformat_minor": 5
}
