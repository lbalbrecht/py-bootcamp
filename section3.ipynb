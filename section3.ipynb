{
 "cells": [
  {
   "cell_type": "code",
   "execution_count": 1,
   "id": "3f6881b2",
   "metadata": {},
   "outputs": [],
   "source": [
    "my_string = \"Hello World\""
   ]
  },
  {
   "cell_type": "code",
   "execution_count": 7,
   "id": "1162d1ac",
   "metadata": {},
   "outputs": [
    {
     "name": "stdout",
     "output_type": "stream",
     "text": [
      "l\n"
     ]
    }
   ],
   "source": [
    "print(my_string[3])"
   ]
  },
  {
   "cell_type": "code",
   "execution_count": 8,
   "id": "4cacd31e",
   "metadata": {},
   "outputs": [
    {
     "name": "stdout",
     "output_type": "stream",
     "text": [
      "r\n"
     ]
    }
   ],
   "source": [
    "print(my_string[-3])"
   ]
  },
  {
   "cell_type": "code",
   "execution_count": 10,
   "id": "0eb056ad",
   "metadata": {},
   "outputs": [
    {
     "data": {
      "text/plain": [
       "11"
      ]
     },
     "execution_count": 10,
     "metadata": {},
     "output_type": "execute_result"
    }
   ],
   "source": [
    "len(my_string)"
   ]
  },
  {
   "cell_type": "code",
   "execution_count": 12,
   "id": "8f2ab8aa",
   "metadata": {},
   "outputs": [
    {
     "name": "stdout",
     "output_type": "stream",
     "text": [
      "You insert objects into a string using the format function\n"
     ]
    }
   ],
   "source": [
    "print(\"You {} objects into a string using the {} function\".format(\"insert\", \"format\"))"
   ]
  },
  {
   "cell_type": "code",
   "execution_count": 15,
   "id": "3323bcf8",
   "metadata": {},
   "outputs": [
    {
     "name": "stdout",
     "output_type": "stream",
     "text": [
      "If you include index numbers in your brackets, that object will be added to those brackets\n"
     ]
    }
   ],
   "source": [
    "print(\"If you include {0} in your {1}, that {2} will be added to those {1}\".format(\"index numbers\", \"brackets\", \"object\"))"
   ]
  },
  {
   "cell_type": "code",
   "execution_count": 17,
   "id": "cd6e8688",
   "metadata": {},
   "outputs": [
    {
     "name": "stdout",
     "output_type": "stream",
     "text": [
      "Objects can be written as variables and those variables can be added to the string\n"
     ]
    }
   ],
   "source": [
    "print(\"{o} can be written as {v} and those {v} can be added to the {s}\".format(o=\"Objects\", v=\"variables\", s=\"string\"))"
   ]
  },
  {
   "cell_type": "code",
   "execution_count": 18,
   "id": "321e2d15",
   "metadata": {},
   "outputs": [],
   "source": [
    "result = 100/777"
   ]
  },
  {
   "cell_type": "code",
   "execution_count": 21,
   "id": "377e26a1",
   "metadata": {},
   "outputs": [
    {
     "data": {
      "text/plain": [
       "0.1287001287001287"
      ]
     },
     "execution_count": 21,
     "metadata": {},
     "output_type": "execute_result"
    }
   ],
   "source": [
    "result"
   ]
  },
  {
   "cell_type": "code",
   "execution_count": 27,
   "id": "e1ea5f9e",
   "metadata": {},
   "outputs": [
    {
     "name": "stdout",
     "output_type": "stream",
     "text": [
      "The result was 0.129\n"
     ]
    }
   ],
   "source": [
    "print(\"The result was {r:1.3f}\".format(r = result))"
   ]
  },
  {
   "cell_type": "code",
   "execution_count": 30,
   "id": "0700f6b0",
   "metadata": {},
   "outputs": [],
   "source": [
    "name = \"Killua\""
   ]
  },
  {
   "cell_type": "code",
   "execution_count": 31,
   "id": "55855571",
   "metadata": {},
   "outputs": [
    {
     "name": "stdout",
     "output_type": "stream",
     "text": [
      "Hello, his name is Killua\n"
     ]
    }
   ],
   "source": [
    "print(f\"Hello, his name is {name}\")"
   ]
  },
  {
   "cell_type": "code",
   "execution_count": 32,
   "id": "867d4bf9",
   "metadata": {},
   "outputs": [],
   "source": [
    "# basic string functions are append, pop, sort, and reverse"
   ]
  },
  {
   "cell_type": "code",
   "execution_count": 33,
   "id": "bc9f0a0d",
   "metadata": {},
   "outputs": [],
   "source": [
    "# Dictionaries use curly braces and are sets of keys assigned to values\n",
    "# {\"key1\":\"value1\", \"key2\":\"value2\"}\n",
    "# dictionaries are unordered and cannot be sorted; however, you don't need to know the key's location in the dictionary"
   ]
  },
  {
   "cell_type": "code",
   "execution_count": 34,
   "id": "bbad2add",
   "metadata": {},
   "outputs": [],
   "source": [
    "# objects are called by their keys"
   ]
  },
  {
   "cell_type": "code",
   "execution_count": 36,
   "id": "ef98b56e",
   "metadata": {},
   "outputs": [],
   "source": [
    "d = {\"k1\":\"a\", \"k2\":\"b\", \"k3\":\"c\"}"
   ]
  },
  {
   "cell_type": "code",
   "execution_count": 42,
   "id": "9b8b2e9d",
   "metadata": {},
   "outputs": [
    {
     "name": "stdout",
     "output_type": "stream",
     "text": [
      "a b\n"
     ]
    }
   ],
   "source": [
    "print((d[\"k1\"]),(d[\"k2\"]))"
   ]
  },
  {
   "cell_type": "code",
   "execution_count": 43,
   "id": "f5017377",
   "metadata": {},
   "outputs": [],
   "source": [
    "# Tuples are similar to lists but are immutable"
   ]
  },
  {
   "cell_type": "code",
   "execution_count": 44,
   "id": "39e6303b",
   "metadata": {},
   "outputs": [],
   "source": [
    "t = (1,2,3)"
   ]
  },
  {
   "cell_type": "code",
   "execution_count": 45,
   "id": "c3eef58e",
   "metadata": {},
   "outputs": [],
   "source": [
    "mylist =[1,2,3]"
   ]
  },
  {
   "cell_type": "code",
   "execution_count": 47,
   "id": "2a89465a",
   "metadata": {},
   "outputs": [
    {
     "data": {
      "text/plain": [
       "(1, 2, 3)"
      ]
     },
     "execution_count": 47,
     "metadata": {},
     "output_type": "execute_result"
    }
   ],
   "source": [
    "t"
   ]
  },
  {
   "cell_type": "code",
   "execution_count": 50,
   "id": "d9ec7534",
   "metadata": {},
   "outputs": [
    {
     "data": {
      "text/plain": [
       "1"
      ]
     },
     "execution_count": 50,
     "metadata": {},
     "output_type": "execute_result"
    }
   ],
   "source": [
    "t[0]"
   ]
  },
  {
   "cell_type": "code",
   "execution_count": 51,
   "id": "5b393a58",
   "metadata": {},
   "outputs": [
    {
     "data": {
      "text/plain": [
       "2"
      ]
     },
     "execution_count": 51,
     "metadata": {},
     "output_type": "execute_result"
    }
   ],
   "source": [
    "t = (\"a\", \"a\", \"b\")\n",
    "t.count(\"a\")"
   ]
  },
  {
   "cell_type": "code",
   "execution_count": 52,
   "id": "c64edd5d",
   "metadata": {},
   "outputs": [],
   "source": [
    "# sets are unordered and all elements must be unique\n",
    "# You can turn a string into a set with the set() function\n",
    "# It will pull all unique characters from the string and order them as they appear\n",
    "# e.g. set(\"pancake\") would output {'p', 'a', 'n', 'c', 'k', 'e'}; set(\"cannon\") would output {'c', 'a', 'n', 'o'}\n",
    "# you can add new objects to a set with the add() function"
   ]
  },
  {
   "cell_type": "code",
   "execution_count": 54,
   "id": "d755fbf7",
   "metadata": {},
   "outputs": [
    {
     "name": "stdout",
     "output_type": "stream",
     "text": [
      "Writing myfile.txt\n"
     ]
    }
   ],
   "source": [
    "%%writefile myfile.txt\n",
    "hello there\n",
    "this is a file\n",
    "it has words"
   ]
  },
  {
   "cell_type": "code",
   "execution_count": 55,
   "id": "82d2180a",
   "metadata": {},
   "outputs": [],
   "source": [
    "myfile = open('myfile.txt')"
   ]
  },
  {
   "cell_type": "code",
   "execution_count": 56,
   "id": "787b8020",
   "metadata": {},
   "outputs": [],
   "source": [
    "# This method is exclusive to Jupyter notebook\n",
    "# use pwd to call the location of the directory"
   ]
  },
  {
   "cell_type": "code",
   "execution_count": 57,
   "id": "cdc1667b",
   "metadata": {},
   "outputs": [
    {
     "data": {
      "text/plain": [
       "'hello there\\nthis is a file\\nit has words\\n'"
      ]
     },
     "execution_count": 57,
     "metadata": {},
     "output_type": "execute_result"
    }
   ],
   "source": [
    "myfile.read()"
   ]
  },
  {
   "cell_type": "code",
   "execution_count": 58,
   "id": "197af7fa",
   "metadata": {},
   "outputs": [],
   "source": [
    "# the program has run through the file and is now at the end, attempting to read it again will return an empty string\n",
    "# using the seek(0) function on the file will send the program back to the beginning (0 index) of the file"
   ]
  },
  {
   "cell_type": "code",
   "execution_count": 64,
   "id": "1fba7a0b",
   "metadata": {},
   "outputs": [
    {
     "data": {
      "text/plain": [
       "0"
      ]
     },
     "execution_count": 64,
     "metadata": {},
     "output_type": "execute_result"
    }
   ],
   "source": [
    "myfile.seek(0)"
   ]
  },
  {
   "cell_type": "code",
   "execution_count": 66,
   "id": "eb410c10",
   "metadata": {},
   "outputs": [
    {
     "data": {
      "text/plain": [
       "[]"
      ]
     },
     "execution_count": 66,
     "metadata": {},
     "output_type": "execute_result"
    }
   ],
   "source": [
    "myfile.readlines()"
   ]
  },
  {
   "cell_type": "code",
   "execution_count": 67,
   "id": "fd90ee2c",
   "metadata": {},
   "outputs": [],
   "source": [
    "# in order to avoid errors, be sure to close your file with the close() method\n",
    "# closing the file will allow you to access it from other programs"
   ]
  },
  {
   "cell_type": "code",
   "execution_count": 69,
   "id": "eb36dbaa",
   "metadata": {},
   "outputs": [],
   "source": [
    "myfile.close()"
   ]
  },
  {
   "cell_type": "code",
   "execution_count": 71,
   "id": "bc630d68",
   "metadata": {},
   "outputs": [],
   "source": [
    "with open('myfile.txt',mode='r') as myfile:\n",
    "    contents = myfile.read()"
   ]
  }
 ],
 "metadata": {
  "kernelspec": {
   "display_name": "Python 3",
   "language": "python",
   "name": "python3"
  },
  "language_info": {
   "codemirror_mode": {
    "name": "ipython",
    "version": 3
   },
   "file_extension": ".py",
   "mimetype": "text/x-python",
   "name": "python",
   "nbconvert_exporter": "python",
   "pygments_lexer": "ipython3",
   "version": "3.8.8"
  }
 },
 "nbformat": 4,
 "nbformat_minor": 5
}
