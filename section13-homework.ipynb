{
 "cells": [
  {
   "cell_type": "markdown",
   "id": "4dca654e",
   "metadata": {},
   "source": [
    "Create a generator that generates the squares of numbers up to some number N."
   ]
  },
  {
   "cell_type": "code",
   "execution_count": 1,
   "id": "6fd421b2",
   "metadata": {},
   "outputs": [],
   "source": [
    "def gensquares(n):\n",
    "    \n",
    "    for num in range(n):\n",
    "        yield num**2"
   ]
  },
  {
   "cell_type": "code",
   "execution_count": 2,
   "id": "d07717ba",
   "metadata": {
    "scrolled": true
   },
   "outputs": [
    {
     "name": "stdout",
     "output_type": "stream",
     "text": [
      "0\n",
      "1\n",
      "4\n",
      "9\n",
      "16\n",
      "25\n",
      "36\n",
      "49\n",
      "64\n",
      "81\n"
     ]
    }
   ],
   "source": [
    "for num in gensquares(10):\n",
    "    print(num)"
   ]
  },
  {
   "cell_type": "markdown",
   "id": "115a02fa",
   "metadata": {},
   "source": [
    " "
   ]
  },
  {
   "cell_type": "markdown",
   "id": "3af914ff",
   "metadata": {},
   "source": [
    "Create a generator that yields \"n\" random numbers between a low and high number (that are inputs)."
   ]
  },
  {
   "cell_type": "code",
   "execution_count": 12,
   "id": "f372c4cf",
   "metadata": {},
   "outputs": [],
   "source": [
    "import random\n",
    "\n",
    "def rng(low,high,n):\n",
    "    for num in range(n):\n",
    "        yield random.randrange(low,high)"
   ]
  },
  {
   "cell_type": "code",
   "execution_count": 13,
   "id": "a9834193",
   "metadata": {},
   "outputs": [
    {
     "name": "stdout",
     "output_type": "stream",
     "text": [
      "1\n",
      "3\n",
      "9\n",
      "5\n",
      "9\n",
      "6\n",
      "7\n",
      "9\n",
      "8\n",
      "2\n",
      "9\n",
      "8\n"
     ]
    }
   ],
   "source": [
    "for x in rng(1,10,12):\n",
    "    print(x)"
   ]
  },
  {
   "cell_type": "markdown",
   "id": "d59599f1",
   "metadata": {},
   "source": [
    " "
   ]
  },
  {
   "cell_type": "markdown",
   "id": "b545510c",
   "metadata": {},
   "source": [
    "Use the iter() function to convert the string below into an iterator:"
   ]
  },
  {
   "cell_type": "code",
   "execution_count": 10,
   "id": "c38a1cf4",
   "metadata": {},
   "outputs": [],
   "source": [
    "s = \"Hello world\"\n",
    "\n",
    "s_iter = iter(s)"
   ]
  },
  {
   "cell_type": "code",
   "execution_count": 8,
   "id": "b0aa7cab",
   "metadata": {},
   "outputs": [
    {
     "name": "stdout",
     "output_type": "stream",
     "text": [
      "H\n",
      "e\n",
      "l\n",
      "l\n",
      "o\n",
      " \n",
      "w\n",
      "o\n",
      "r\n",
      "l\n",
      "d\n"
     ]
    }
   ],
   "source": [
    "for x in s_iter:\n",
    "    print(x)"
   ]
  },
  {
   "cell_type": "code",
   "execution_count": 21,
   "id": "cb8585f6",
   "metadata": {},
   "outputs": [
    {
     "name": "stdout",
     "output_type": "stream",
     "text": [
      "d\n"
     ]
    }
   ],
   "source": [
    "print(next(s_iter))"
   ]
  },
  {
   "cell_type": "markdown",
   "id": "4e2d2cb5",
   "metadata": {},
   "source": [
    " "
   ]
  },
  {
   "cell_type": "markdown",
   "id": "1d60fd57",
   "metadata": {},
   "source": [
    "Explain a use case for a generator using a yield statement where you would not want to use a normal function with a return statement."
   ]
  },
  {
   "cell_type": "markdown",
   "id": "b3c8fb4a",
   "metadata": {},
   "source": [
    "Generators are more appropriate than standard functions for cases using a large database that doesn't need to be saved in the program itself (i.e., if you are simply iterating through the database). Generators return information without storing a set or list of data. As such, the program will not store the data and will, thus, use less memory. This is important for program optimization and storage management; as long as the data is accessible elsewhere or unnecessary to draw from, there is no reason to store it in the program."
   ]
  },
  {
   "cell_type": "markdown",
   "id": "c2e98706",
   "metadata": {},
   "source": [
    " "
   ]
  },
  {
   "cell_type": "markdown",
   "id": "30fe7f91",
   "metadata": {},
   "source": [
    "Can you explain what gencomp is in the code below?"
   ]
  },
  {
   "cell_type": "code",
   "execution_count": 25,
   "id": "a09f276a",
   "metadata": {},
   "outputs": [
    {
     "name": "stdout",
     "output_type": "stream",
     "text": [
      "4\n",
      "5\n"
     ]
    }
   ],
   "source": [
    "my_list = [1,2,3,4,5]\n",
    "\n",
    "gencomp = (item for item in my_list if item > 3)\n",
    "\n",
    "for item in gencomp:\n",
    "    print(item)\n"
   ]
  },
  {
   "cell_type": "markdown",
   "id": "0300e896",
   "metadata": {},
   "source": [
    "gencomp yields all elements from my_list that are greater than 3\n",
    "* the syntax \"item for item...\" is a \"for\" loop condensed into a single line\n",
    "* \"item\"(1) refers to the item to be yielded from my_list by gencomp\n",
    "* \"for item in my_list\" iterates through all items my_list\n",
    "* \"if item > 3\" specifies that the item must have a value greater than three for gencomp to yield it"
   ]
  }
 ],
 "metadata": {
  "kernelspec": {
   "display_name": "Python 3 (ipykernel)",
   "language": "python",
   "name": "python3"
  },
  "language_info": {
   "codemirror_mode": {
    "name": "ipython",
    "version": 3
   },
   "file_extension": ".py",
   "mimetype": "text/x-python",
   "name": "python",
   "nbconvert_exporter": "python",
   "pygments_lexer": "ipython3",
   "version": "3.9.7"
  }
 },
 "nbformat": 4,
 "nbformat_minor": 5
}
