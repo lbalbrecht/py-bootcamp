{
 "cells": [
  {
   "cell_type": "markdown",
   "id": "9f703f70",
   "metadata": {},
   "source": [
    "PyPI is a repository for open-source third-party Python package\n",
    "(think npm)"
   ]
  },
  {
   "cell_type": "markdown",
   "id": "2ed8e719",
   "metadata": {},
   "source": [
    "Module is another name for a .py script"
   ]
  },
  {
   "cell_type": "markdown",
   "id": "be941804",
   "metadata": {},
   "source": [
    "Packages are collections of modules"
   ]
  },
  {
   "cell_type": "markdown",
   "id": "32847081",
   "metadata": {},
   "source": [
    "A line of code that often exists at the bottom of python files:\n",
    "\n",
    "if __name__ == \"__main__\"\n",
    "\n",
    "When you import a module, you want to know whether a function has been imported or is being run through the original .py script it was written in"
   ]
  }
 ],
 "metadata": {
  "kernelspec": {
   "display_name": "Python 3 (ipykernel)",
   "language": "python",
   "name": "python3"
  },
  "language_info": {
   "codemirror_mode": {
    "name": "ipython",
    "version": 3
   },
   "file_extension": ".py",
   "mimetype": "text/x-python",
   "name": "python",
   "nbconvert_exporter": "python",
   "pygments_lexer": "ipython3",
   "version": "3.9.7"
  }
 },
 "nbformat": 4,
 "nbformat_minor": 5
}
