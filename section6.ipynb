{
 "cells": [
  {
   "cell_type": "code",
   "execution_count": null,
   "id": "7c7ebc6b",
   "metadata": {},
   "outputs": [],
   "source": [
    "mylist = [1,2,3]\n",
    "mylist.append(4)\n",
    "mylist"
   ]
  },
  {
   "cell_type": "code",
   "execution_count": null,
   "id": "62192213",
   "metadata": {},
   "outputs": [],
   "source": [
    "# type ctrl + tab when calling a function for a description of what that function does\n",
    "\n",
    "mylist.insert(2,4)\n",
    "mylist"
   ]
  },
  {
   "cell_type": "code",
   "execution_count": null,
   "id": "c7fa89a3",
   "metadata": {},
   "outputs": [],
   "source": [
    "# Python documentation can be found at docs.python.org; although, stackoverflow is more readable "
   ]
  },
  {
   "cell_type": "code",
   "execution_count": null,
   "id": "57b65f38",
   "metadata": {},
   "outputs": [],
   "source": []
  },
  {
   "cell_type": "code",
   "execution_count": null,
   "id": "bb23e893",
   "metadata": {},
   "outputs": [],
   "source": [
    "# Introduction to functions"
   ]
  },
  {
   "cell_type": "code",
   "execution_count": null,
   "id": "4754082d",
   "metadata": {},
   "outputs": [],
   "source": [
    "# Python functions start with the 'def' command\n",
    "# as with everything, indexing and syntax are very important\n",
    "# def name_of_function():\n",
    "    # '''\n",
    "    # This is the docstring, which defines what the function does\n",
    "    # Docstrings are indicated by triple quotes\n",
    "    # '''"
   ]
  },
  {
   "cell_type": "code",
   "execution_count": null,
   "id": "28afdb2a",
   "metadata": {},
   "outputs": [],
   "source": [
    "def name_function(name):\n",
    "    print(\"Hello, \" + name)\n",
    "\n",
    "name_function(\"Hinata\")"
   ]
  },
  {
   "cell_type": "code",
   "execution_count": null,
   "id": "7070560f",
   "metadata": {},
   "outputs": [],
   "source": [
    "# Functions typically include a return variable to assign the output to a new variable "
   ]
  },
  {
   "cell_type": "code",
   "execution_count": null,
   "id": "e3f05e38",
   "metadata": {},
   "outputs": [],
   "source": [
    "def add_function(num1,num2):\n",
    "    return num1+num2\n",
    "\n",
    "result = add_function(1,3)\n",
    "print(result)"
   ]
  },
  {
   "cell_type": "code",
   "execution_count": null,
   "id": "27faa5bc",
   "metadata": {},
   "outputs": [],
   "source": [
    "def say_hello():\n",
    "    name = input(\"What is your name? \")\n",
    "    print(f'Hello, {name}')\n",
    "    \n",
    "say_hello()"
   ]
  },
  {
   "cell_type": "code",
   "execution_count": null,
   "id": "ed2022e9",
   "metadata": {},
   "outputs": [],
   "source": [
    "def even_check():\n",
    "    \n",
    "    num = int(input(\"Type a number to see if it's even: \"))\n",
    "    if num%2==0:\n",
    "        return(f'{num} is even')\n",
    "    else:\n",
    "        return(f'{num} is odd')\n",
    "        \n",
    "result = even_check()\n",
    "\n",
    "result"
   ]
  },
  {
   "cell_type": "code",
   "execution_count": null,
   "id": "3dd6c616",
   "metadata": {},
   "outputs": [],
   "source": [
    "def even_check():\n",
    "    \n",
    "    num = int(input(\"Type a number to see if it's even: \"))\n",
    "    \n",
    "    if num % 2 == 0:\n",
    "        print(f'{num} is even')\n",
    "    else:\n",
    "        print(f'{num} is odd')\n",
    "        \n",
    "even_check()"
   ]
  },
  {
   "cell_type": "code",
   "execution_count": null,
   "id": "3dca36b3",
   "metadata": {},
   "outputs": [],
   "source": [
    "def check_even_list(num_list):\n",
    "    for num in num_list:\n",
    "        if num % 2 == 0:\n",
    "            return True\n",
    "        else:\n",
    "            pass\n",
    "    return False\n",
    "\n",
    "check_even_list([1,3,5])"
   ]
  },
  {
   "cell_type": "code",
   "execution_count": null,
   "id": "d2e3aa53",
   "metadata": {},
   "outputs": [],
   "source": [
    "def check_even_list(num_list):\n",
    "    even_numbers = []\n",
    "    \n",
    "    for number in num_list:\n",
    "        if number % 2 == 0:\n",
    "            even_numbers.append(number)\n",
    "        else:\n",
    "            pass\n",
    "    return even_numbers\n",
    "\n",
    "check_even_list([2,4,5])"
   ]
  },
  {
   "cell_type": "code",
   "execution_count": null,
   "id": "80ba4118",
   "metadata": {},
   "outputs": [],
   "source": []
  },
  {
   "cell_type": "code",
   "execution_count": null,
   "id": "50e42d1b",
   "metadata": {},
   "outputs": [],
   "source": [
    "# Tuple unpacking with functions\n",
    "\n",
    "stonks = [(\"APPL\",200), (\"GOOG\",400),(\"MSFT\",100)]\n",
    "\n",
    "for corp,value in stonks:\n",
    "    print(f'{corp}: {value}')"
   ]
  },
  {
   "cell_type": "code",
   "execution_count": null,
   "id": "3b482a76",
   "metadata": {},
   "outputs": [],
   "source": [
    "practice_hours = [(\"Hinata\",50), (\"Kageyama\",60), (\"Noya\",35), (\"Tanaka\",45)]\n",
    "\n",
    "def search_hours(practice_hours):\n",
    "    current_max = 0\n",
    "    best_teammate = ''\n",
    "    \n",
    "    for name,time in practice_hours:\n",
    "        if time > current_max:\n",
    "            current_max = time\n",
    "            best_teammate = name     \n",
    "    print(f'{best_teammate} trained the most this month with {current_max} hours')\n",
    "\n",
    "search_hours(practice_hours)"
   ]
  },
  {
   "cell_type": "code",
   "execution_count": null,
   "id": "c9937dd0",
   "metadata": {},
   "outputs": [],
   "source": [
    "practice_hours = [(\"Hinata\",50), (\"Kageyama\",60), (\"Noya\",35), (\"Tanaka\",45)]\n",
    "\n",
    "def search_hours(practice_hours):\n",
    "    current_max = 0\n",
    "    best_teammate = ''\n",
    "    \n",
    "    for name,time in practice_hours:\n",
    "        if time > current_max:\n",
    "            current_max = time\n",
    "            best_teammate = name     \n",
    "    return (current_max, best_teammate)\n",
    "\n",
    "time,name = search_hours(practice_hours)"
   ]
  },
  {
   "cell_type": "code",
   "execution_count": null,
   "id": "2cda6d93",
   "metadata": {},
   "outputs": [],
   "source": [
    "name"
   ]
  },
  {
   "cell_type": "code",
   "execution_count": null,
   "id": "fbd3052a",
   "metadata": {},
   "outputs": [],
   "source": [
    "time"
   ]
  },
  {
   "cell_type": "code",
   "execution_count": null,
   "id": "541e10c0",
   "metadata": {},
   "outputs": [],
   "source": []
  },
  {
   "cell_type": "code",
   "execution_count": 4,
   "id": "a787e9e3",
   "metadata": {},
   "outputs": [
    {
     "data": {
      "text/plain": [
       "[1, 3, 5, 6, 4, 7, 2]"
      ]
     },
     "execution_count": 4,
     "metadata": {},
     "output_type": "execute_result"
    }
   ],
   "source": [
    "# Cups and balls with Python\n",
    "\n",
    "example = [1,2,3,4,5,6,7]\n",
    "\n",
    "from random import shuffle\n",
    "\n",
    "shuffle(example)\n",
    "\n",
    "example"
   ]
  },
  {
   "cell_type": "code",
   "execution_count": 5,
   "id": "c50f683c",
   "metadata": {},
   "outputs": [
    {
     "data": {
      "text/plain": [
       "[4, 2, 6, 5, 7, 1, 3]"
      ]
     },
     "execution_count": 5,
     "metadata": {},
     "output_type": "execute_result"
    }
   ],
   "source": [
    "def shuffle_list(mylist):\n",
    "    shuffle(mylist)\n",
    "    return(mylist)\n",
    "\n",
    "result = shuffle_list(example)\n",
    "result"
   ]
  },
  {
   "cell_type": "code",
   "execution_count": 6,
   "id": "8b74ce5b",
   "metadata": {},
   "outputs": [
    {
     "data": {
      "text/plain": [
       "['O', ' ', ' ']"
      ]
     },
     "execution_count": 6,
     "metadata": {},
     "output_type": "execute_result"
    }
   ],
   "source": [
    "mylist = [' ', 'O', ' ']\n",
    "shuffle_list(mylist)"
   ]
  },
  {
   "cell_type": "code",
   "execution_count": 7,
   "id": "5a72cb76",
   "metadata": {},
   "outputs": [
    {
     "name": "stdout",
     "output_type": "stream",
     "text": [
      "Enter a number between 1-3 to guess where the ball is 2\n",
      "You won!\n"
     ]
    }
   ],
   "source": [
    "def play_game():\n",
    "    num = 0\n",
    "    while num not in [1,2,3]:\n",
    "        num = int(input(\"Enter a number between 1-3 to guess where the ball is \"))\n",
    "    \n",
    "    shuffle_list(mylist)\n",
    "    \n",
    "    if mylist[num-1] == \"O\":\n",
    "        print(\"You won!\")\n",
    "    else:\n",
    "        correct = mylist.index('O')+1\n",
    "        print(f\"The correct answer was {correct}! Try again!\")\n",
    "        print(mylist)\n",
    "        \n",
    "play_game()"
   ]
  },
  {
   "cell_type": "code",
   "execution_count": 8,
   "id": "1de04fb7",
   "metadata": {},
   "outputs": [
    {
     "name": "stdout",
     "output_type": "stream",
     "text": [
      "Enter a number between 1-3 to guess where the ball is 3\n",
      "The correct answer was 1! Try again!\n",
      "['O', ' ', ' ']\n"
     ]
    }
   ],
   "source": [
    "mylist = ['O', ' ', ' ']\n",
    "\n",
    "play_game()"
   ]
  },
  {
   "cell_type": "code",
   "execution_count": null,
   "id": "b3afdecb",
   "metadata": {},
   "outputs": [],
   "source": []
  },
  {
   "cell_type": "code",
   "execution_count": 9,
   "id": "83fa678a",
   "metadata": {},
   "outputs": [],
   "source": [
    "# *args and **kwargs"
   ]
  },
  {
   "cell_type": "code",
   "execution_count": 11,
   "id": "220e4048",
   "metadata": {},
   "outputs": [
    {
     "data": {
      "text/plain": [
       "1.5"
      ]
     },
     "execution_count": 11,
     "metadata": {},
     "output_type": "execute_result"
    }
   ],
   "source": [
    "def myfunc(a,b):\n",
    "    # return 5% of the sum of a and b\n",
    "    return (a+b)*.05\n",
    "\n",
    "result = myfunc(10,20)\n",
    "result"
   ]
  },
  {
   "cell_type": "code",
   "execution_count": 13,
   "id": "d9034d4b",
   "metadata": {},
   "outputs": [],
   "source": [
    "def myfunc(*args):\n",
    "    # placeholder value indicating that any number of args can be used\n",
    "    return sum(args)*0.05"
   ]
  },
  {
   "cell_type": "code",
   "execution_count": 15,
   "id": "8aa291a0",
   "metadata": {},
   "outputs": [
    {
     "data": {
      "text/plain": [
       "5.0"
      ]
     },
     "execution_count": 15,
     "metadata": {},
     "output_type": "execute_result"
    }
   ],
   "source": [
    "myfunc(10,20,30,40)"
   ]
  },
  {
   "cell_type": "code",
   "execution_count": 19,
   "id": "4eccfe4f",
   "metadata": {},
   "outputs": [],
   "source": [
    "def myfunc(**kwargs):\n",
    "    print(kwargs)\n",
    "    if 'fruit' in kwargs:\n",
    "        print(\"My fruit of choice is {}\".format(kwargs['fruit']))\n",
    "    else:\n",
    "        print(\"Yes, we have no bananas\")"
   ]
  },
  {
   "cell_type": "code",
   "execution_count": 21,
   "id": "c90f7985",
   "metadata": {},
   "outputs": [
    {
     "name": "stdout",
     "output_type": "stream",
     "text": [
      "{'fruit': 'Bananas', 'veggie': 'spanch'}\n",
      "My fruit of choice is Bananas\n"
     ]
    }
   ],
   "source": [
    "myfunc(fruit=\"Bananas\", veggie=\"spanch\")"
   ]
  },
  {
   "cell_type": "code",
   "execution_count": 26,
   "id": "598bd836",
   "metadata": {},
   "outputs": [],
   "source": [
    "def myfunc(*args, **kwargs):\n",
    "    # since *args is defined first, they must come first in the code\n",
    "    print('I would like {} {}, plz'.format(args[0],kwargs['food']))"
   ]
  },
  {
   "cell_type": "code",
   "execution_count": 29,
   "id": "753b36dd",
   "metadata": {},
   "outputs": [
    {
     "name": "stdout",
     "output_type": "stream",
     "text": [
      "I would like 10 Chickie fingies, plz\n"
     ]
    }
   ],
   "source": [
    "myfunc(10,20,30,fruit=\"Bananas\",food=\"Chickie fingies\",reps=\"pushups\")"
   ]
  },
  {
   "cell_type": "code",
   "execution_count": 30,
   "id": "29e6e714",
   "metadata": {},
   "outputs": [],
   "source": [
    "# *args and **kwargs are especially useful when using outside libraries"
   ]
  },
  {
   "cell_type": "code",
   "execution_count": 1,
   "id": "a0a3d5f4",
   "metadata": {},
   "outputs": [
    {
     "data": {
      "text/plain": [
       "'aNiMaLs'"
      ]
     },
     "execution_count": 1,
     "metadata": {},
     "output_type": "execute_result"
    }
   ],
   "source": [
    "def myfunc(mystring):\n",
    "    outputstring = \"\"\n",
    "    for letter in range(len(mystring)):\n",
    "        if letter % 2 == 0:\n",
    "                outputstring+=mystring[letter].lower()\n",
    "        else:\n",
    "                outputstring+=mystring[letter].upper()\n",
    "\n",
    "    return outputstring\n",
    "            \n",
    "myfunc('animals')"
   ]
  },
  {
   "cell_type": "code",
   "execution_count": null,
   "id": "a4f61be7",
   "metadata": {},
   "outputs": [],
   "source": []
  },
  {
   "cell_type": "code",
   "execution_count": 2,
   "id": "fcfe04ef",
   "metadata": {},
   "outputs": [],
   "source": [
    "# lambda expressions\n",
    "# tl;dr one-time-use expressions that you don't even need to name"
   ]
  },
  {
   "cell_type": "code",
   "execution_count": 5,
   "id": "5a7ef9de",
   "metadata": {},
   "outputs": [
    {
     "name": "stdout",
     "output_type": "stream",
     "text": [
      "1\n",
      "4\n",
      "9\n",
      "16\n",
      "25\n"
     ]
    }
   ],
   "source": [
    "# map(func, *iterables) -> map through an object\n",
    "def square(num):\n",
    "    return num**2\n",
    "\n",
    "my_nums = [1,2,3,4,5]\n",
    "\n",
    "for item in map(square,my_nums):\n",
    "    print(item)"
   ]
  },
  {
   "cell_type": "code",
   "execution_count": 7,
   "id": "14d51f51",
   "metadata": {},
   "outputs": [
    {
     "data": {
      "text/plain": [
       "[1, 4, 9, 16, 25]"
      ]
     },
     "execution_count": 7,
     "metadata": {},
     "output_type": "execute_result"
    }
   ],
   "source": [
    "list(map(square,my_nums))"
   ]
  },
  {
   "cell_type": "code",
   "execution_count": 11,
   "id": "e6d546ff",
   "metadata": {},
   "outputs": [],
   "source": [
    "def splicer(mystr):\n",
    "    if len(mystr) % 2 == 0:\n",
    "        return \"Even\"\n",
    "    else:\n",
    "        return mystr[0]"
   ]
  },
  {
   "cell_type": "code",
   "execution_count": 12,
   "id": "cc796514",
   "metadata": {},
   "outputs": [
    {
     "data": {
      "text/plain": [
       "['Even', 'Even', 'E']"
      ]
     },
     "execution_count": 12,
     "metadata": {},
     "output_type": "execute_result"
    }
   ],
   "source": [
    "names = [\"Andy\", \"Jean\", \"Ethan\"]\n",
    "list(map(splicer,names))"
   ]
  },
  {
   "cell_type": "code",
   "execution_count": 13,
   "id": "83f8f093",
   "metadata": {},
   "outputs": [],
   "source": [
    "def check_even(num):\n",
    "    return num % 2 == 0"
   ]
  },
  {
   "cell_type": "code",
   "execution_count": 35,
   "id": "c984a604",
   "metadata": {},
   "outputs": [],
   "source": [
    "mynums = [1,2,3,4,5,6]"
   ]
  },
  {
   "cell_type": "code",
   "execution_count": 16,
   "id": "869b0f42",
   "metadata": {},
   "outputs": [
    {
     "data": {
      "text/plain": [
       "[2, 4, 6]"
      ]
     },
     "execution_count": 16,
     "metadata": {},
     "output_type": "execute_result"
    }
   ],
   "source": [
    "# filter function similar to map but only returns items that meet conditions defined in the function\n",
    "list(filter(check_even,mynums))"
   ]
  },
  {
   "cell_type": "code",
   "execution_count": 19,
   "id": "073ed163",
   "metadata": {},
   "outputs": [],
   "source": [
    "# lambda function also known as 'anonymous function'"
   ]
  },
  {
   "cell_type": "code",
   "execution_count": 24,
   "id": "0f9e2a72",
   "metadata": {},
   "outputs": [],
   "source": [
    "square = lambda num: num ** 2"
   ]
  },
  {
   "cell_type": "code",
   "execution_count": 26,
   "id": "a8228299",
   "metadata": {},
   "outputs": [
    {
     "data": {
      "text/plain": [
       "9"
      ]
     },
     "execution_count": 26,
     "metadata": {},
     "output_type": "execute_result"
    }
   ],
   "source": [
    "square(3)"
   ]
  },
  {
   "cell_type": "code",
   "execution_count": 36,
   "id": "95acbc56",
   "metadata": {},
   "outputs": [
    {
     "data": {
      "text/plain": [
       "[1, 4, 9, 16, 25, 36]"
      ]
     },
     "execution_count": 36,
     "metadata": {},
     "output_type": "execute_result"
    }
   ],
   "source": [
    "list(map(lambda num: num ** 2, mynums))"
   ]
  },
  {
   "cell_type": "code",
   "execution_count": 39,
   "id": "3e323e81",
   "metadata": {},
   "outputs": [
    {
     "data": {
      "text/plain": [
       "[2, 4, 6]"
      ]
     },
     "execution_count": 39,
     "metadata": {},
     "output_type": "execute_result"
    }
   ],
   "source": [
    "list(filter(lambda num: num % 2 == 0, mynums))"
   ]
  },
  {
   "cell_type": "code",
   "execution_count": 41,
   "id": "3cc18baa",
   "metadata": {},
   "outputs": [
    {
     "data": {
      "text/plain": [
       "['A', 'J', 'E']"
      ]
     },
     "execution_count": 41,
     "metadata": {},
     "output_type": "execute_result"
    }
   ],
   "source": [
    "list(map(lambda name:name[0],names))"
   ]
  },
  {
   "cell_type": "code",
   "execution_count": 43,
   "id": "4a2b1486",
   "metadata": {},
   "outputs": [
    {
     "data": {
      "text/plain": [
       "['ydnA', 'naeJ', 'nahtE']"
      ]
     },
     "execution_count": 43,
     "metadata": {},
     "output_type": "execute_result"
    }
   ],
   "source": [
    "list(map(lambda name:name[::-1],names))"
   ]
  },
  {
   "cell_type": "code",
   "execution_count": null,
   "id": "cbdc5f4d",
   "metadata": {},
   "outputs": [],
   "source": []
  },
  {
   "cell_type": "code",
   "execution_count": 44,
   "id": "c8b05bb7",
   "metadata": {},
   "outputs": [],
   "source": [
    "# Nested statements\n",
    "# variable names are stored in what is known as the \"namespace\"\n",
    "# 'Scope' refers to the visibility of variables in your code overall\n",
    "# (i.e. how statments defined in a function cannot be called outside that function)"
   ]
  },
  {
   "cell_type": "code",
   "execution_count": 46,
   "id": "62bcba67",
   "metadata": {},
   "outputs": [],
   "source": [
    "x = 25\n",
    "def printer():\n",
    "    x = 50\n",
    "    return x"
   ]
  },
  {
   "cell_type": "code",
   "execution_count": 48,
   "id": "16c58786",
   "metadata": {},
   "outputs": [
    {
     "name": "stdout",
     "output_type": "stream",
     "text": [
      "25\n"
     ]
    }
   ],
   "source": [
    "print(x)"
   ]
  },
  {
   "cell_type": "code",
   "execution_count": 50,
   "id": "dec75f7e",
   "metadata": {},
   "outputs": [
    {
     "name": "stdout",
     "output_type": "stream",
     "text": [
      "50\n"
     ]
    }
   ],
   "source": [
    "print(printer())"
   ]
  },
  {
   "cell_type": "code",
   "execution_count": 51,
   "id": "5a79a08a",
   "metadata": {},
   "outputs": [],
   "source": [
    "# LEGB Rule:\n",
    "# L: Local - Names assigned in any way within a function (def or lambda),\n",
    "    # and not declard global in that function\n",
    "# E: Enclosing function locals - Names in the local scope of any and all enclosing functions (def or lambda)\n",
    "    # from inner to outer\n",
    "# G: Global (module) - Names assigned at the top-level of a module file,\n",
    "    # or declared global in a def within the file.\n",
    "# B: Built-in (Python) - Names preassigned in the built-in names module: open, range, SyntaxError etc."
   ]
  },
  {
   "cell_type": "code",
   "execution_count": 56,
   "id": "b1f44119",
   "metadata": {},
   "outputs": [
    {
     "name": "stdout",
     "output_type": "stream",
     "text": [
      "Hello, Rod\n"
     ]
    }
   ],
   "source": [
    "name = \"This is a global string\"\n",
    "\n",
    "def greet():\n",
    "    # Enclosing function local (in reference to hello()) as well as a local(in reference to greet())\n",
    "    name = \"Emilio\"\n",
    "    \n",
    "    def hello():\n",
    "        name = \"Rod\"\n",
    "        print(\"Hello, \" + name)\n",
    "        \n",
    "    hello()\n",
    "greet()"
   ]
  },
  {
   "cell_type": "code",
   "execution_count": null,
   "id": "3b3aaab8",
   "metadata": {},
   "outputs": [],
   "source": []
  }
 ],
 "metadata": {
  "kernelspec": {
   "display_name": "Python 3",
   "language": "python",
   "name": "python3"
  },
  "language_info": {
   "codemirror_mode": {
    "name": "ipython",
    "version": 3
   },
   "file_extension": ".py",
   "mimetype": "text/x-python",
   "name": "python",
   "nbconvert_exporter": "python",
   "pygments_lexer": "ipython3",
   "version": "3.8.8"
  }
 },
 "nbformat": 4,
 "nbformat_minor": 5
}
