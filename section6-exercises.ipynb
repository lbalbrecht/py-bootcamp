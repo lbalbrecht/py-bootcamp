{
 "cells": [
  {
   "cell_type": "code",
   "execution_count": 11,
   "id": "e455ccef",
   "metadata": {},
   "outputs": [
    {
     "data": {
      "text/plain": [
       "6"
      ]
     },
     "execution_count": 11,
     "metadata": {},
     "output_type": "execute_result"
    }
   ],
   "source": [
    "# Write a function that returns the lesser of two given numbers if both numbers are even, \n",
    "# but returns the greater if one or both numbers are odd\n",
    "\n",
    "def lesser_than_evens(a,b):\n",
    "    if a % 2 == 0 and b % 2 == 0:\n",
    "        # return min(a,b)\n",
    "        if a < b:\n",
    "            return a\n",
    "        else:\n",
    "            return b\n",
    "    else:\n",
    "        # return max(a,b)\n",
    "        if a > b:\n",
    "            return a\n",
    "        else:\n",
    "            return b\n",
    "    \n",
    "lesser_than_evens(3,6)"
   ]
  },
  {
   "cell_type": "code",
   "execution_count": 107,
   "id": "355c8dda",
   "metadata": {},
   "outputs": [
    {
     "data": {
      "text/plain": [
       "True"
      ]
     },
     "execution_count": 107,
     "metadata": {},
     "output_type": "execute_result"
    }
   ],
   "source": [
    "# Write a function takes a two-word string and returns True if both words begin with same letter\n",
    "\n",
    "def alliteration_check(mystr):\n",
    "    result = mystr.split()\n",
    "    return result[0][0].lower() == result[1][0].lower()\n",
    "    #if result[0][0].lower() == result[1][0].lower():\n",
    "        #return True\n",
    "    #else:\n",
    "        #return False\n",
    "\n",
    "alliteration_check(\"wello World\")"
   ]
  },
  {
   "cell_type": "code",
   "execution_count": 29,
   "id": "4b6d5c9e",
   "metadata": {},
   "outputs": [
    {
     "data": {
      "text/plain": [
       "True"
      ]
     },
     "execution_count": 29,
     "metadata": {},
     "output_type": "execute_result"
    }
   ],
   "source": [
    "# Given two integers, return True if the sum of the integers is 20 or if one of the integers is 20. If not, return False\n",
    "\n",
    "def makes_twenty(a,b):\n",
    "    #return if sum((a,b)) == 20 or a == 20 or b == 20\n",
    "    if sum((a,b)) == 20:\n",
    "        return True\n",
    "    elif a == 20 or b == 20:\n",
    "        return True\n",
    "    else:\n",
    "        return False\n",
    "    \n",
    "makes_twenty(20,10)"
   ]
  },
  {
   "cell_type": "code",
   "execution_count": 34,
   "id": "b4ef29b7",
   "metadata": {},
   "outputs": [
    {
     "data": {
      "text/plain": [
       "'MacDonald'"
      ]
     },
     "execution_count": 34,
     "metadata": {},
     "output_type": "execute_result"
    }
   ],
   "source": [
    "# Write a function that capitalizes the first and fourth letters of a name\n",
    "\n",
    "def capital_name(mystr):\n",
    "    output = \"\"\n",
    "    for letter in range(len(mystr)):\n",
    "        if letter == 0 or letter == 3:\n",
    "            output += mystr[letter].upper()\n",
    "        else:\n",
    "            output += mystr[letter]\n",
    "    return output\n",
    "\n",
    "    #first_half = mystr[:3]\n",
    "    #second_half = mystr[3:]\n",
    "    \n",
    "    #return first_half.capitalize() + second_half.capitalize()\n",
    "\n",
    "capital_name('macdonald')"
   ]
  },
  {
   "cell_type": "code",
   "execution_count": 45,
   "id": "30c1141f",
   "metadata": {},
   "outputs": [
    {
     "data": {
      "text/plain": [
       "\"me it's world, Hello\""
      ]
     },
     "execution_count": 45,
     "metadata": {},
     "output_type": "execute_result"
    }
   ],
   "source": [
    "# Given a sentence, return a sentence with the words reversed\n",
    "\n",
    "def word_reverse(mystr):\n",
    "    splitstr = mystr.split()\n",
    "    revstr = splitstr[::-1]\n",
    "    result = \" \".join(revstr)\n",
    "    return result\n",
    "    \n",
    "word_reverse(\"Hello world, it's me\")"
   ]
  },
  {
   "cell_type": "code",
   "execution_count": 108,
   "id": "7a6f0e80",
   "metadata": {},
   "outputs": [
    {
     "data": {
      "text/plain": [
       "True"
      ]
     },
     "execution_count": 108,
     "metadata": {},
     "output_type": "execute_result"
    }
   ],
   "source": [
    "# Given an integer n, return True if n is within 10 of either 100 or 200\n",
    "\n",
    "def check_integer(n):\n",
    "    return 90<= n <= 110 or 190 <= n <= 210\n",
    "    #(abs(100-n) <= 10) or (abs(200-n) <= 10)\n",
    "    \n",
    "check_integer(201)"
   ]
  },
  {
   "cell_type": "code",
   "execution_count": 85,
   "id": "ded64524",
   "metadata": {},
   "outputs": [
    {
     "data": {
      "text/plain": [
       "False"
      ]
     },
     "execution_count": 85,
     "metadata": {},
     "output_type": "execute_result"
    }
   ],
   "source": [
    "# Given a list of ints, return True if the array contains a 3 next to a 3 somewhere.\n",
    "\n",
    "def has_33(mylist):\n",
    "    for nums in range(0,len(mylist)-1):\n",
    "        if mylist[nums] != 3:\n",
    "            continue\n",
    "        elif mylist[nums] == 3 and mylist[nums+1] == 3:\n",
    "            return True\n",
    "        else:\n",
    "            continue\n",
    "    return False\n",
    "        \n",
    "has_33([3,1,3,1])"
   ]
  },
  {
   "cell_type": "code",
   "execution_count": 89,
   "id": "7ec49d44",
   "metadata": {},
   "outputs": [
    {
     "data": {
      "text/plain": [
       "'MMMiiissssssiiissssssiiippppppiii'"
      ]
     },
     "execution_count": 89,
     "metadata": {},
     "output_type": "execute_result"
    }
   ],
   "source": [
    "# return a string where for every character in the original there are three characters\n",
    "def word_extend(mystr):\n",
    "    output=''\n",
    "    for letter in mystr:\n",
    "        output += letter + letter + letter # or letter*3\n",
    "    return output\n",
    "\n",
    "word_extend(\"Mississippi\")"
   ]
  },
  {
   "cell_type": "code",
   "execution_count": 109,
   "id": "0471d049",
   "metadata": {},
   "outputs": [
    {
     "data": {
      "text/plain": [
       "17"
      ]
     },
     "execution_count": 109,
     "metadata": {},
     "output_type": "execute_result"
    }
   ],
   "source": [
    "#Given three integers between 1 and 11, if their sum is less than or equal to 21, return their sum. \n",
    "#If their sum exceeds 21 and there's an eleven, reduce the total sum by 10. \n",
    "#Finally, if the sum (even after adjustment) exceeds 21, return 'BUST'\n",
    "\n",
    "def blackjack(a,b,c):\n",
    "    if a > 11 or b > 11 or c > 11:\n",
    "        return \"Please enter numbers between 1 and 11\"\n",
    "    elif sum([a,b,c]) < 21:\n",
    "        return sum((a,b,c))\n",
    "    elif sum([a,b,c]) == 21:\n",
    "        return \"Blackjack!\"\n",
    "    elif 11 in [a,b,c] and sum([a,b,c]) > 21:\n",
    "        return sum([a,b,c])-10\n",
    "    else:\n",
    "        return \"BUST!\"\n",
    "    \n",
    "blackjack(3,5,9)"
   ]
  },
  {
   "cell_type": "code",
   "execution_count": 1,
   "id": "560ec30b",
   "metadata": {},
   "outputs": [
    {
     "data": {
      "text/plain": [
       "14"
      ]
     },
     "execution_count": 1,
     "metadata": {},
     "output_type": "execute_result"
    }
   ],
   "source": [
    "# Return the sum of the numbers in the array\n",
    "# except ignore sections of numbers starting with a 6 and extending to the next 9\n",
    "# Return 0 for no numbers.\n",
    "\n",
    "def nice_69(mylist):\n",
    "    tot = 0\n",
    "    if 6 not in mylist:\n",
    "        tot = sum(mylist)\n",
    "    else:\n",
    "        index6 = mylist.index(6)\n",
    "        index9 = mylist.index(9, index6+1)\n",
    "        del mylist[index6:index9+1]\n",
    "        tot = sum(mylist)\n",
    "    return tot\n",
    "    \n",
    "    #add = True\n",
    "    #for num in mylist:\n",
    "        #while add:\n",
    "            #if num != 6:\n",
    "                #tot += num\n",
    "                #break\n",
    "            #else:\n",
    "                #add = False\n",
    "        #while not add:\n",
    "            #if num != 9:\n",
    "                #break\n",
    "            #else:\n",
    "                #add = True\n",
    "                #break\n",
    "    #return tot\n",
    "\n",
    "nice_69([2, 1, 6, 9, 11])"
   ]
  },
  {
   "cell_type": "code",
   "execution_count": 2,
   "id": "5773010f",
   "metadata": {},
   "outputs": [],
   "source": [
    "def spy_game(nums):\n",
    "    code = ['0','0','7','x']\n",
    "    \n",
    "    for num in nums:\n",
    "        if num == code[0]:\n",
    "            code.pop(0)\n",
    "            \n",
    "    return len(code) == 1"
   ]
  },
  {
   "cell_type": "code",
   "execution_count": null,
   "id": "b42adfda",
   "metadata": {},
   "outputs": [],
   "source": [
    "def count_primes(num):\n",
    "    \n",
    "    # checks if num is less than two because two is the smallest prime\n",
    "    if num < 2:\n",
    "        return 0\n",
    "    \n",
    "    # stores prime nums\n",
    "    primes = [2]\n",
    "    # counter going up to input num\n",
    "    x = 3\n",
    "    \n",
    "    while x <= num:\n",
    "        # check if x is prime\n",
    "        for y in range(3,x,2):\n",
    "            if x%y == 0:\n",
    "                x += 2\n",
    "                break\n",
    "            else:\n",
    "                primes.append(x)\n",
    "                x += 2\n",
    "                \n",
    "    print(primes)\n",
    "    return len(primes)"
   ]
  }
 ],
 "metadata": {
  "kernelspec": {
   "display_name": "Python 3",
   "language": "python",
   "name": "python3"
  },
  "language_info": {
   "codemirror_mode": {
    "name": "ipython",
    "version": 3
   },
   "file_extension": ".py",
   "mimetype": "text/x-python",
   "name": "python",
   "nbconvert_exporter": "python",
   "pygments_lexer": "ipython3",
   "version": "3.8.8"
  }
 },
 "nbformat": 4,
 "nbformat_minor": 5
}
