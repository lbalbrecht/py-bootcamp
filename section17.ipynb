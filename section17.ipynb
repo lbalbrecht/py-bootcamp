{
 "cells": [
  {
   "cell_type": "markdown",
   "id": "f47edd65",
   "metadata": {},
   "source": [
    "# CSV Files"
   ]
  },
  {
   "cell_type": "markdown",
   "id": "630db1ab",
   "metadata": {},
   "source": [
    "CSV stands for \"comma separated variables\" and is a very common output for spreadsheet programs where data is separated by commas to indicate separation of columns<br>\n",
    "e.g.:<br>\n",
    "* Name, Hours, Rate\n",
    "* David, 20, 15\n",
    "* Clair, 40, 20"
   ]
  },
  {
   "cell_type": "markdown",
   "id": "fe06cabb",
   "metadata": {},
   "source": [
    ".csv files store raw data<br>\n",
    "While Google Spreadsheets and Excel files can be exported to .csv files, any formulas, images, or macros in the document will not be exported"
   ]
  },
  {
   "cell_type": "code",
   "execution_count": null,
   "id": "9b68b077",
   "metadata": {},
   "outputs": [],
   "source": []
  }
 ],
 "metadata": {
  "kernelspec": {
   "display_name": "Python 3",
   "language": "python",
   "name": "python3"
  },
  "language_info": {
   "codemirror_mode": {
    "name": "ipython",
    "version": 3
   },
   "file_extension": ".py",
   "mimetype": "text/x-python",
   "name": "python",
   "nbconvert_exporter": "python",
   "pygments_lexer": "ipython3",
   "version": "3.8.8"
  }
 },
 "nbformat": 4,
 "nbformat_minor": 5
}
