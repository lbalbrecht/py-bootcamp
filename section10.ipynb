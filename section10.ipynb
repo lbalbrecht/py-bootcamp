{
 "cells": [
  {
   "cell_type": "markdown",
   "id": "419357f7",
   "metadata": {},
   "source": [
    "## Errors and Exception Handling"
   ]
  },
  {
   "cell_type": "code",
   "execution_count": 3,
   "id": "91ccef8b",
   "metadata": {},
   "outputs": [],
   "source": [
    "def add(n1,n2):\n",
    "    print(n1+n2)"
   ]
  },
  {
   "cell_type": "code",
   "execution_count": 4,
   "id": "b04b461c",
   "metadata": {},
   "outputs": [
    {
     "name": "stdout",
     "output_type": "stream",
     "text": [
      "30\n"
     ]
    }
   ],
   "source": [
    "add(10,20)"
   ]
  },
  {
   "cell_type": "code",
   "execution_count": 5,
   "id": "f270988e",
   "metadata": {},
   "outputs": [],
   "source": [
    "number1 = 10"
   ]
  },
  {
   "cell_type": "code",
   "execution_count": 6,
   "id": "8540ec42",
   "metadata": {},
   "outputs": [
    {
     "name": "stdout",
     "output_type": "stream",
     "text": [
      "Please provide a number: 8\n"
     ]
    }
   ],
   "source": [
    "number2 = input(\"Please provide a number: \")\n",
    "\n",
    "number2 = int(number2)"
   ]
  },
  {
   "cell_type": "code",
   "execution_count": 7,
   "id": "c22cda82",
   "metadata": {},
   "outputs": [
    {
     "name": "stdout",
     "output_type": "stream",
     "text": [
      "18\n"
     ]
    }
   ],
   "source": [
    "add(number1,number2)"
   ]
  },
  {
   "cell_type": "code",
   "execution_count": 14,
   "id": "db92614c",
   "metadata": {},
   "outputs": [
    {
     "name": "stdout",
     "output_type": "stream",
     "text": [
      "Addition successful\n",
      "20\n"
     ]
    }
   ],
   "source": [
    "try:\n",
    "    # want to attempt this code\n",
    "    # may have an error\n",
    "    \n",
    "    result = 10 + 10\n",
    "except:\n",
    "    print(\"Not this time\")\n",
    "    \n",
    "else:\n",
    "    print(\"Addition successful\")\n",
    "    print(result)"
   ]
  },
  {
   "cell_type": "code",
   "execution_count": 11,
   "id": "c57d430f",
   "metadata": {},
   "outputs": [
    {
     "data": {
      "text/plain": [
       "20"
      ]
     },
     "execution_count": 11,
     "metadata": {},
     "output_type": "execute_result"
    }
   ],
   "source": [
    "result"
   ]
  },
  {
   "cell_type": "markdown",
   "id": "beb8b04a",
   "metadata": {},
   "source": [
    " "
   ]
  },
  {
   "cell_type": "markdown",
   "id": "2dea151c",
   "metadata": {},
   "source": [
    " "
   ]
  },
  {
   "cell_type": "code",
   "execution_count": 17,
   "id": "3c6e955f",
   "metadata": {},
   "outputs": [
    {
     "name": "stdout",
     "output_type": "stream",
     "text": [
      "Ayyy lmao\n"
     ]
    }
   ],
   "source": [
    "try:\n",
    "    f = open('testfile', 'w')\n",
    "    f.write(\"Write a test line\")\n",
    "except TypeError:\n",
    "    print(\"Type error\")\n",
    "except OSError:\n",
    "    print(\"OS Error\")\n",
    "finally:\n",
    "    print(\"Ayyy lmao\")"
   ]
  },
  {
   "cell_type": "markdown",
   "id": "cee8863e",
   "metadata": {},
   "source": [
    " "
   ]
  },
  {
   "cell_type": "markdown",
   "id": "9331a1c8",
   "metadata": {},
   "source": [
    " "
   ]
  },
  {
   "cell_type": "code",
   "execution_count": 26,
   "id": "94705962",
   "metadata": {},
   "outputs": [],
   "source": [
    "def ask_for_int():\n",
    "    \n",
    "    while True:\n",
    "        try:\n",
    "            result = int(input(\"Number, plz: \"))\n",
    "        except:\n",
    "            print(\"nah bro I mean like the digit\\nTry again\")\n",
    "        else:\n",
    "            print(\"Steady on\")\n",
    "            break\n",
    "        finally:\n",
    "            print(\"It is snowing on Mt. Fuji\")"
   ]
  },
  {
   "cell_type": "code",
   "execution_count": 27,
   "id": "fefed399",
   "metadata": {},
   "outputs": [
    {
     "name": "stdout",
     "output_type": "stream",
     "text": [
      "Number, plz: hey\n",
      "nah bro I mean like the digit\n",
      "Try again\n",
      "It is snowing on Mt. Fuji\n",
      "Number, plz: 10\n",
      "Steady on\n",
      "It is snowing on Mt. Fuji\n"
     ]
    }
   ],
   "source": [
    "ask_for_int()"
   ]
  },
  {
   "cell_type": "markdown",
   "id": "4a6039f1",
   "metadata": {},
   "source": [
    " "
   ]
  },
  {
   "cell_type": "markdown",
   "id": "4d35946b",
   "metadata": {},
   "source": [
    " \n",
    " "
   ]
  },
  {
   "cell_type": "markdown",
   "id": "64c118e1",
   "metadata": {},
   "source": [
    "### Pylint and Unittest"
   ]
  },
  {
   "cell_type": "markdown",
   "id": "c5605de6",
   "metadata": {},
   "source": [
    "Pylint is a library that scans your code for possible issues"
   ]
  },
  {
   "cell_type": "markdown",
   "id": "4766ca1f",
   "metadata": {},
   "source": [
    "Unittest is a library for testing programs to ensure desired outcomes"
   ]
  },
  {
   "cell_type": "code",
   "execution_count": null,
   "id": "91259661",
   "metadata": {},
   "outputs": [],
   "source": []
  }
 ],
 "metadata": {
  "kernelspec": {
   "display_name": "Python 3 (ipykernel)",
   "language": "python",
   "name": "python3"
  },
  "language_info": {
   "codemirror_mode": {
    "name": "ipython",
    "version": 3
   },
   "file_extension": ".py",
   "mimetype": "text/x-python",
   "name": "python",
   "nbconvert_exporter": "python",
   "pygments_lexer": "ipython3",
   "version": "3.9.7"
  }
 },
 "nbformat": 4,
 "nbformat_minor": 5
}
