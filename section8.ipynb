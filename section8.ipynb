{
 "cells": [
  {
   "cell_type": "markdown",
   "id": "62a044b7",
   "metadata": {},
   "source": [
    "# Object Oriented Programming (Yay)"
   ]
  },
  {
   "cell_type": "markdown",
   "id": "de7053b9",
   "metadata": {},
   "source": [
    "class NameOfClass():\n",
    "    def __init__(self,param1,param2):\n",
    "        # this is the standard class method, there are two underscores on each side and it is necessary for all classes to assign class attributes\n",
    "        self.param1 = param1\n",
    "        self.param2 = param2\n",
    "        \n",
    "    def some_method(self):\n",
    "        # perform some action\n",
    "        print(self.param1)\n",
    "        \n",
    "    self. indicates that the function or method is connected to the class (possibly like \"this.\" in js\n",
    "        "
   ]
  },
  {
   "cell_type": "code",
   "execution_count": 2,
   "id": "ca6539cc",
   "metadata": {},
   "outputs": [],
   "source": [
    "mylist = [1,2,3]"
   ]
  },
  {
   "cell_type": "code",
   "execution_count": 3,
   "id": "adf7b796",
   "metadata": {},
   "outputs": [],
   "source": [
    "myset = set()"
   ]
  },
  {
   "cell_type": "code",
   "execution_count": 5,
   "id": "6464bcf3",
   "metadata": {},
   "outputs": [
    {
     "data": {
      "text/plain": [
       "set"
      ]
     },
     "execution_count": 5,
     "metadata": {},
     "output_type": "execute_result"
    }
   ],
   "source": [
    "type(myset)"
   ]
  },
  {
   "cell_type": "code",
   "execution_count": 49,
   "id": "21136fd0",
   "metadata": {},
   "outputs": [],
   "source": [
    "class MyClass():\n",
    "    # Defining a class object attribute that will be the same for all class instances\n",
    "    attribute = 'color'\n",
    "    \n",
    "    def __init__(self,attr1,attr2,attr3):\n",
    "        self.color1 = attr1\n",
    "        self.color2 = attr2\n",
    "        self.color3 = attr3\n",
    "        \n",
    "    # Class methods\n",
    "    def say(self):\n",
    "        print(f\"Double Rainbow: {self.color1}, {self.color2}, {self.color3}\")"
   ]
  },
  {
   "cell_type": "code",
   "execution_count": 50,
   "id": "17617abc",
   "metadata": {},
   "outputs": [],
   "source": [
    "my_class = MyClass(\"Red\",\"Green\",\"Blue\")"
   ]
  },
  {
   "cell_type": "code",
   "execution_count": 51,
   "id": "adf29776",
   "metadata": {},
   "outputs": [
    {
     "data": {
      "text/plain": [
       "'color'"
      ]
     },
     "execution_count": 51,
     "metadata": {},
     "output_type": "execute_result"
    }
   ],
   "source": [
    "my_class.attribute"
   ]
  },
  {
   "cell_type": "code",
   "execution_count": 52,
   "id": "93462172",
   "metadata": {},
   "outputs": [
    {
     "name": "stdout",
     "output_type": "stream",
     "text": [
      "Double Rainbow: Red, Green, Blue\n"
     ]
    }
   ],
   "source": [
    "my_class.say()"
   ]
  },
  {
   "cell_type": "code",
   "execution_count": 37,
   "id": "ba59f357",
   "metadata": {},
   "outputs": [
    {
     "data": {
      "text/plain": [
       "'Red'"
      ]
     },
     "execution_count": 37,
     "metadata": {},
     "output_type": "execute_result"
    }
   ],
   "source": [
    "my_class.color1"
   ]
  },
  {
   "cell_type": "markdown",
   "id": "d15e1c23",
   "metadata": {},
   "source": [
    " "
   ]
  },
  {
   "cell_type": "markdown",
   "id": "c4ed3c2c",
   "metadata": {},
   "source": [
    " "
   ]
  },
  {
   "cell_type": "code",
   "execution_count": 74,
   "id": "701d0357",
   "metadata": {},
   "outputs": [],
   "source": [
    "class Circle():\n",
    "    \n",
    "    pi = 3.14\n",
    "    \n",
    "    # You can define default parameters for your attributes to avoid errors\n",
    "    def __init__(self,r=1):\n",
    "        \n",
    "        self.radius = r\n",
    "        \n",
    "    def calculate_area(self):\n",
    "        return (4/3)*self.pi*(self.radius**3)\n",
    "    \n",
    "    # class object attributes can be called using the class name for clarity\n",
    "    def calculate_circumference(self):\n",
    "        return 2*Circle.pi*self.radius"
   ]
  },
  {
   "cell_type": "code",
   "execution_count": 75,
   "id": "76dac190",
   "metadata": {},
   "outputs": [],
   "source": [
    "my_circle = Circle()"
   ]
  },
  {
   "cell_type": "code",
   "execution_count": 76,
   "id": "69156b0b",
   "metadata": {},
   "outputs": [
    {
     "data": {
      "text/plain": [
       "4.1866666666666665"
      ]
     },
     "execution_count": 76,
     "metadata": {},
     "output_type": "execute_result"
    }
   ],
   "source": [
    "my_circle.calculate_area()"
   ]
  },
  {
   "cell_type": "code",
   "execution_count": 77,
   "id": "05a93d50",
   "metadata": {},
   "outputs": [
    {
     "data": {
      "text/plain": [
       "6.28"
      ]
     },
     "execution_count": 77,
     "metadata": {},
     "output_type": "execute_result"
    }
   ],
   "source": [
    "my_circle.calculate_circumference()"
   ]
  },
  {
   "cell_type": "markdown",
   "id": "21925910",
   "metadata": {},
   "source": [
    " "
   ]
  },
  {
   "cell_type": "markdown",
   "id": "08d1e83a",
   "metadata": {},
   "source": [
    "### Inheritance is the process of creating new classes using classes that have already been defined"
   ]
  },
  {
   "cell_type": "code",
   "execution_count": 1,
   "id": "0576278d",
   "metadata": {},
   "outputs": [],
   "source": [
    "class Animal():\n",
    "    def __init__(self):\n",
    "        print(\"Animal Created\")\n",
    "        \n",
    "    def who_am_i(self):\n",
    "        print(\"I am an animal\")\n",
    "        \n",
    "    def eat(self):\n",
    "        print(\"I am eating\")"
   ]
  },
  {
   "cell_type": "code",
   "execution_count": 2,
   "id": "6e9a750e",
   "metadata": {},
   "outputs": [],
   "source": [
    "class Dog(Animal):\n",
    "    def __init__(self):\n",
    "        Animal.__init__(self)\n",
    "        print(\"Dog Created\")"
   ]
  },
  {
   "cell_type": "code",
   "execution_count": 4,
   "id": "31c80f07",
   "metadata": {},
   "outputs": [
    {
     "name": "stdout",
     "output_type": "stream",
     "text": [
      "Animal Created\n",
      "Dog Created\n"
     ]
    }
   ],
   "source": [
    "mydog = Dog()"
   ]
  },
  {
   "cell_type": "code",
   "execution_count": 5,
   "id": "884eca8c",
   "metadata": {},
   "outputs": [
    {
     "name": "stdout",
     "output_type": "stream",
     "text": [
      "Animal Created\n"
     ]
    }
   ],
   "source": [
    "myanimal = Animal()"
   ]
  },
  {
   "cell_type": "code",
   "execution_count": 6,
   "id": "36e95308",
   "metadata": {},
   "outputs": [
    {
     "name": "stdout",
     "output_type": "stream",
     "text": [
      "I am eating\n"
     ]
    }
   ],
   "source": [
    "mydog.eat()"
   ]
  },
  {
   "cell_type": "markdown",
   "id": "af924fa1",
   "metadata": {},
   "source": [
    "### Adding a method in your inheriting class that also exists in the parent class will override the method in the parent class"
   ]
  },
  {
   "cell_type": "code",
   "execution_count": 7,
   "id": "c60b2968",
   "metadata": {},
   "outputs": [],
   "source": [
    "class Cat(Animal):\n",
    "    def __init__(self):\n",
    "        Animal.__init__(self)\n",
    "        print(\"Cat Created\")\n",
    "        \n",
    "    def who_am_i(self):\n",
    "        print(\"I am a cat\")"
   ]
  },
  {
   "cell_type": "code",
   "execution_count": 8,
   "id": "4ee5bda1",
   "metadata": {},
   "outputs": [
    {
     "name": "stdout",
     "output_type": "stream",
     "text": [
      "Animal Created\n",
      "Cat Created\n"
     ]
    }
   ],
   "source": [
    "mycat = Cat()"
   ]
  },
  {
   "cell_type": "code",
   "execution_count": 9,
   "id": "6ae236cd",
   "metadata": {},
   "outputs": [
    {
     "name": "stdout",
     "output_type": "stream",
     "text": [
      "I am a cat\n"
     ]
    }
   ],
   "source": [
    "mycat.who_am_i()"
   ]
  },
  {
   "cell_type": "markdown",
   "id": "f3006932",
   "metadata": {},
   "source": [
    " "
   ]
  },
  {
   "cell_type": "markdown",
   "id": "86788161",
   "metadata": {},
   "source": [
    " "
   ]
  },
  {
   "cell_type": "markdown",
   "id": "9c537db6",
   "metadata": {},
   "source": [
    "### Polymorphism"
   ]
  },
  {
   "cell_type": "markdown",
   "id": "9e43334a",
   "metadata": {},
   "source": [
    "Refers to the way in which different object classes can share the same method name\n",
    "Methods can be called from the same place even if multiple objects are called in"
   ]
  },
  {
   "cell_type": "code",
   "execution_count": 11,
   "id": "29934f39",
   "metadata": {},
   "outputs": [],
   "source": [
    "class Bird():\n",
    "    \n",
    "    def __init__(self,name):\n",
    "        self.name = name\n",
    "        \n",
    "    def speak(self):\n",
    "        return self.name + \" says tweet!\""
   ]
  },
  {
   "cell_type": "code",
   "execution_count": 12,
   "id": "4fb4d82a",
   "metadata": {},
   "outputs": [],
   "source": [
    "class Snake():\n",
    "    \n",
    "    def __init__(self,name):\n",
    "        self.name = name\n",
    "        \n",
    "    def speak(self):\n",
    "        return self.name + \" says hiss!\""
   ]
  },
  {
   "cell_type": "code",
   "execution_count": 13,
   "id": "a17d0490",
   "metadata": {},
   "outputs": [],
   "source": [
    "pidgey = Bird(\"Pidgey\")\n",
    "arbok = Snake(\"Arbok\")"
   ]
  },
  {
   "cell_type": "code",
   "execution_count": 16,
   "id": "289e935a",
   "metadata": {},
   "outputs": [
    {
     "name": "stdout",
     "output_type": "stream",
     "text": [
      "Pidgey says tweet!\n"
     ]
    }
   ],
   "source": [
    "print(pidgey.speak())"
   ]
  },
  {
   "cell_type": "code",
   "execution_count": 17,
   "id": "24c21055",
   "metadata": {},
   "outputs": [
    {
     "name": "stdout",
     "output_type": "stream",
     "text": [
      "Arbok says hiss!\n"
     ]
    }
   ],
   "source": [
    "print(arbok.speak())"
   ]
  },
  {
   "cell_type": "markdown",
   "id": "7da01c62",
   "metadata": {},
   "source": [
    "Although the speak() method exists in both the Bird and Snake classes, the method that is called is the method in the class that the object is assigned to (i.e. pidgey is assigned to the Bird class and arbok is assigned to the Snake class)"
   ]
  },
  {
   "cell_type": "code",
   "execution_count": 20,
   "id": "52376255",
   "metadata": {},
   "outputs": [
    {
     "name": "stdout",
     "output_type": "stream",
     "text": [
      "<class '__main__.Bird'>\n",
      "Pidgey says tweet!\n",
      "<class '__main__.Snake'>\n",
      "Arbok says hiss!\n"
     ]
    }
   ],
   "source": [
    "for pet in [pidgey,arbok]:\n",
    "    print(type(pet))\n",
    "    print(pet.speak())"
   ]
  },
  {
   "cell_type": "code",
   "execution_count": 21,
   "id": "f46af8b9",
   "metadata": {},
   "outputs": [],
   "source": [
    "def pet_speak(pet):\n",
    "    print(pet.speak())"
   ]
  },
  {
   "cell_type": "code",
   "execution_count": 22,
   "id": "bfd8a964",
   "metadata": {},
   "outputs": [
    {
     "name": "stdout",
     "output_type": "stream",
     "text": [
      "Pidgey says tweet!\n"
     ]
    }
   ],
   "source": [
    "pet_speak(pidgey)"
   ]
  },
  {
   "cell_type": "code",
   "execution_count": 23,
   "id": "e3269016",
   "metadata": {
    "scrolled": true
   },
   "outputs": [
    {
     "name": "stdout",
     "output_type": "stream",
     "text": [
      "Arbok says hiss!\n"
     ]
    }
   ],
   "source": [
    "pet_speak(arbok)"
   ]
  },
  {
   "cell_type": "markdown",
   "id": "77416994",
   "metadata": {},
   "source": [
    " "
   ]
  },
  {
   "cell_type": "code",
   "execution_count": 24,
   "id": "2d326dc4",
   "metadata": {},
   "outputs": [],
   "source": [
    "class NewAnimal():\n",
    "    def __init__(self,name):\n",
    "        self.name = name\n",
    "        \n",
    "    def speak(self):\n",
    "        raise NotImplementedError(\"Subclass must implement this abstract method\")"
   ]
  },
  {
   "cell_type": "code",
   "execution_count": 28,
   "id": "37d47888",
   "metadata": {},
   "outputs": [],
   "source": [
    "class Bird(NewAnimal):\n",
    "    def speak(self):\n",
    "        return self.name + \" says tweet!\""
   ]
  },
  {
   "cell_type": "code",
   "execution_count": 29,
   "id": "139ba791",
   "metadata": {},
   "outputs": [],
   "source": [
    "class Snake(NewAnimal):\n",
    "    def speak(self):\n",
    "        return self.name + \" says hiss!\""
   ]
  },
  {
   "cell_type": "code",
   "execution_count": 30,
   "id": "43d1d7ec",
   "metadata": {},
   "outputs": [],
   "source": [
    "pidgeot = Bird(\"Pidgeot\")"
   ]
  },
  {
   "cell_type": "code",
   "execution_count": 31,
   "id": "8635766d",
   "metadata": {},
   "outputs": [],
   "source": [
    "ekans = Snake(\"Ekans\")"
   ]
  },
  {
   "cell_type": "code",
   "execution_count": 33,
   "id": "2c890c72",
   "metadata": {},
   "outputs": [
    {
     "name": "stdout",
     "output_type": "stream",
     "text": [
      "Pidgeot says tweet!\n"
     ]
    }
   ],
   "source": [
    "print(pidgeot.speak())"
   ]
  },
  {
   "cell_type": "code",
   "execution_count": 34,
   "id": "97a0c6ce",
   "metadata": {},
   "outputs": [
    {
     "name": "stdout",
     "output_type": "stream",
     "text": [
      "Ekans says hiss!\n"
     ]
    }
   ],
   "source": [
    "print(ekans.speak())"
   ]
  },
  {
   "cell_type": "markdown",
   "id": "e25df29b",
   "metadata": {},
   "source": [
    " "
   ]
  },
  {
   "cell_type": "markdown",
   "id": "3b221e74",
   "metadata": {},
   "source": [
    "### Using prebuilt methods in user-generated objects"
   ]
  },
  {
   "cell_type": "markdown",
   "id": "4caca53c",
   "metadata": {},
   "source": [
    "Magic or Dunder methods are all methods with double underscores on either end"
   ]
  },
  {
   "cell_type": "code",
   "execution_count": 35,
   "id": "e48dc102",
   "metadata": {},
   "outputs": [],
   "source": [
    "mylist = [1,2,3]"
   ]
  },
  {
   "cell_type": "code",
   "execution_count": 36,
   "id": "2b4009dc",
   "metadata": {},
   "outputs": [
    {
     "data": {
      "text/plain": [
       "3"
      ]
     },
     "execution_count": 36,
     "metadata": {},
     "output_type": "execute_result"
    }
   ],
   "source": [
    "len(mylist)"
   ]
  },
  {
   "cell_type": "code",
   "execution_count": 86,
   "id": "0d94c1e1",
   "metadata": {},
   "outputs": [],
   "source": [
    "class Book():\n",
    "    def __init__(self,title,author,pages):\n",
    "        \n",
    "        self.title = title\n",
    "        self.author = author\n",
    "        self.pages = pages\n",
    "    \n",
    "    # Prints a string when object is called\n",
    "    # equivalent to str() method\n",
    "    # used to return strings\n",
    "    def __str__(self):\n",
    "        return f\"{self.title} by {self.author}\"\n",
    "    \n",
    "    # for returning integers\n",
    "    # equivalent to len() function\n",
    "    \n",
    "    def __len__(self):\n",
    "        return self.pages\n",
    "    \n",
    "    def __del__(self):\n",
    "        print(\"A book has been deleted\")"
   ]
  },
  {
   "cell_type": "code",
   "execution_count": 87,
   "id": "932bfcec",
   "metadata": {},
   "outputs": [],
   "source": [
    "b = Book(\"Perdido Street Station\", \"China Mieville\", 600)"
   ]
  },
  {
   "cell_type": "code",
   "execution_count": 88,
   "id": "44c1368d",
   "metadata": {},
   "outputs": [
    {
     "name": "stdout",
     "output_type": "stream",
     "text": [
      "Perdido Street Station by China Mieville\n"
     ]
    }
   ],
   "source": [
    "print(b)"
   ]
  },
  {
   "cell_type": "code",
   "execution_count": 89,
   "id": "90dc234a",
   "metadata": {},
   "outputs": [
    {
     "data": {
      "text/plain": [
       "600"
      ]
     },
     "execution_count": 89,
     "metadata": {},
     "output_type": "execute_result"
    }
   ],
   "source": [
    "len(b)"
   ]
  },
  {
   "cell_type": "code",
   "execution_count": 90,
   "id": "3c71cf60",
   "metadata": {},
   "outputs": [
    {
     "name": "stdout",
     "output_type": "stream",
     "text": [
      "Perdido Street Station by China Mieville\n"
     ]
    }
   ],
   "source": [
    "print(b)"
   ]
  },
  {
   "cell_type": "code",
   "execution_count": 91,
   "id": "f5089b94",
   "metadata": {},
   "outputs": [
    {
     "name": "stdout",
     "output_type": "stream",
     "text": [
      "A book has been deleted\n"
     ]
    }
   ],
   "source": [
    "del b"
   ]
  },
  {
   "cell_type": "code",
   "execution_count": 92,
   "id": "bbfa802f",
   "metadata": {},
   "outputs": [
    {
     "ename": "NameError",
     "evalue": "name 'b' is not defined",
     "output_type": "error",
     "traceback": [
      "\u001b[1;31m---------------------------------------------------------------------------\u001b[0m",
      "\u001b[1;31mNameError\u001b[0m                                 Traceback (most recent call last)",
      "\u001b[1;32m~\\AppData\\Local\\Temp/ipykernel_18396/1685013873.py\u001b[0m in \u001b[0;36m<module>\u001b[1;34m\u001b[0m\n\u001b[1;32m----> 1\u001b[1;33m \u001b[0mb\u001b[0m\u001b[1;33m\u001b[0m\u001b[1;33m\u001b[0m\u001b[0m\n\u001b[0m",
      "\u001b[1;31mNameError\u001b[0m: name 'b' is not defined"
     ]
    }
   ],
   "source": [
    "b"
   ]
  },
  {
   "cell_type": "code",
   "execution_count": null,
   "id": "f98236ce",
   "metadata": {},
   "outputs": [],
   "source": []
  }
 ],
 "metadata": {
  "kernelspec": {
   "display_name": "Python 3 (ipykernel)",
   "language": "python",
   "name": "python3"
  },
  "language_info": {
   "codemirror_mode": {
    "name": "ipython",
    "version": 3
   },
   "file_extension": ".py",
   "mimetype": "text/x-python",
   "name": "python",
   "nbconvert_exporter": "python",
   "pygments_lexer": "ipython3",
   "version": "3.9.7"
  }
 },
 "nbformat": 4,
 "nbformat_minor": 5
}
