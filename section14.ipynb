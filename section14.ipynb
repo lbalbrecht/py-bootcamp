{
 "cells": [
  {
   "cell_type": "markdown",
   "id": "44dabf60",
   "metadata": {},
   "source": [
    "# Advanced Modules"
   ]
  },
  {
   "cell_type": "markdown",
   "id": "f45469c1",
   "metadata": {},
   "source": [
    "* [Collections](#collections)\n",
    "* [OS module](#os_module)\n",
    "* [Datetime](#datetime)\n",
    "* [Math](#math)\n",
    "* [Random](#random)\n",
    "* [Python Debugger](#debugger)\n",
    "* [Regular Expressions](#reg_express)\n",
    "* [Timeit](#timeit)\n",
    "* [Unzipping and Zipping Modules](#zip_unzip)"
   ]
  },
  {
   "cell_type": "markdown",
   "id": "9e732b2f",
   "metadata": {},
   "source": [
    "<a id='collections'></a>\n",
    "## Collections<br>\n",
    "Implements specialized container datatypes (e.g. dictionaries, tuples)\n"
   ]
  },
  {
   "cell_type": "code",
   "execution_count": null,
   "id": "0da90275",
   "metadata": {},
   "outputs": [],
   "source": [
    "from collections import Counter"
   ]
  },
  {
   "cell_type": "code",
   "execution_count": null,
   "id": "9e108cda",
   "metadata": {},
   "outputs": [],
   "source": [
    "mylist = [1,1,2,2,2,3,3,3,3,4,4,5,6,6,7,8,8,8]"
   ]
  },
  {
   "cell_type": "code",
   "execution_count": null,
   "id": "76114901",
   "metadata": {},
   "outputs": [],
   "source": [
    "Counter(mylist)"
   ]
  },
  {
   "cell_type": "code",
   "execution_count": null,
   "id": "1f5b0448",
   "metadata": {},
   "outputs": [],
   "source": [
    "newlist = ['a','a','b','b','b',5,5,10,11,11,11]"
   ]
  },
  {
   "cell_type": "code",
   "execution_count": null,
   "id": "6e4dedc0",
   "metadata": {
    "scrolled": true
   },
   "outputs": [],
   "source": [
    "Counter(newlist)"
   ]
  },
  {
   "cell_type": "markdown",
   "id": "2915b351",
   "metadata": {},
   "source": [
    "Counter is a specialized dictionary"
   ]
  },
  {
   "cell_type": "code",
   "execution_count": null,
   "id": "d5567bd5",
   "metadata": {},
   "outputs": [],
   "source": [
    "Counter('aaaabbbbbbeeeerrrrffffff')"
   ]
  },
  {
   "cell_type": "code",
   "execution_count": null,
   "id": "bdab54ac",
   "metadata": {},
   "outputs": [],
   "source": [
    "sentence = \"Words on words on sentences on phrases\""
   ]
  },
  {
   "cell_type": "code",
   "execution_count": null,
   "id": "3d71de30",
   "metadata": {},
   "outputs": [],
   "source": [
    "Counter(sentence.lower().split())"
   ]
  },
  {
   "cell_type": "code",
   "execution_count": null,
   "id": "1f2fa60a",
   "metadata": {},
   "outputs": [],
   "source": [
    "letters = \"sdkajhsldkfjhsa\""
   ]
  },
  {
   "cell_type": "code",
   "execution_count": null,
   "id": "f1c44667",
   "metadata": {},
   "outputs": [],
   "source": [
    "c = Counter(letters)"
   ]
  },
  {
   "cell_type": "code",
   "execution_count": null,
   "id": "5e18baa1",
   "metadata": {},
   "outputs": [],
   "source": [
    "c"
   ]
  },
  {
   "cell_type": "code",
   "execution_count": null,
   "id": "d6e2da27",
   "metadata": {},
   "outputs": [],
   "source": [
    "c.most_common()"
   ]
  },
  {
   "cell_type": "code",
   "execution_count": null,
   "id": "02977dba",
   "metadata": {},
   "outputs": [],
   "source": [
    "list(c)"
   ]
  },
  {
   "cell_type": "code",
   "execution_count": null,
   "id": "bb3362bd",
   "metadata": {},
   "outputs": [],
   "source": [
    "from collections import defaultdict"
   ]
  },
  {
   "cell_type": "code",
   "execution_count": null,
   "id": "deb4fa0c",
   "metadata": {},
   "outputs": [],
   "source": [
    "d = {'a': 10}"
   ]
  },
  {
   "cell_type": "code",
   "execution_count": null,
   "id": "00780ddb",
   "metadata": {},
   "outputs": [],
   "source": [
    "d['a']"
   ]
  },
  {
   "cell_type": "code",
   "execution_count": null,
   "id": "3f9debb0",
   "metadata": {},
   "outputs": [],
   "source": [
    "d[\"WRONG\"]"
   ]
  },
  {
   "cell_type": "code",
   "execution_count": null,
   "id": "48fedd04",
   "metadata": {},
   "outputs": [],
   "source": [
    "dd = defaultdict(lambda: 0)"
   ]
  },
  {
   "cell_type": "code",
   "execution_count": null,
   "id": "e6679ef4",
   "metadata": {},
   "outputs": [],
   "source": [
    "dd['yes']"
   ]
  },
  {
   "cell_type": "code",
   "execution_count": null,
   "id": "c0a9f067",
   "metadata": {},
   "outputs": [],
   "source": [
    "dd['no']"
   ]
  },
  {
   "cell_type": "code",
   "execution_count": null,
   "id": "4d74c967",
   "metadata": {},
   "outputs": [],
   "source": [
    "d"
   ]
  },
  {
   "cell_type": "code",
   "execution_count": null,
   "id": "4559b378",
   "metadata": {},
   "outputs": [],
   "source": [
    "dd"
   ]
  },
  {
   "cell_type": "code",
   "execution_count": null,
   "id": "256c9075",
   "metadata": {},
   "outputs": [],
   "source": [
    "mytuple = (10,20,30)"
   ]
  },
  {
   "cell_type": "code",
   "execution_count": null,
   "id": "e9d6fe04",
   "metadata": {},
   "outputs": [],
   "source": [
    "from collections import namedtuple"
   ]
  },
  {
   "cell_type": "code",
   "execution_count": null,
   "id": "e925d9e9",
   "metadata": {},
   "outputs": [],
   "source": [
    "Dog = namedtuple(\"Dog\", ['age','breed','name'])"
   ]
  },
  {
   "cell_type": "code",
   "execution_count": null,
   "id": "e1aebeaf",
   "metadata": {},
   "outputs": [],
   "source": [
    "Darla = Dog(age=7,breed='Lab',name=\"Darla\")"
   ]
  },
  {
   "cell_type": "code",
   "execution_count": null,
   "id": "0f4308e1",
   "metadata": {},
   "outputs": [],
   "source": [
    "Darla"
   ]
  },
  {
   "cell_type": "markdown",
   "id": "f84619f3",
   "metadata": {},
   "source": [
    " "
   ]
  },
  {
   "cell_type": "markdown",
   "id": "7570be44",
   "metadata": {},
   "source": [
    " "
   ]
  },
  {
   "cell_type": "markdown",
   "id": "a8a333c5",
   "metadata": {},
   "source": [
    " "
   ]
  },
  {
   "cell_type": "markdown",
   "id": "dd27e0bc",
   "metadata": {},
   "source": [
    "<a id='os_module'></a>\n",
    "## OS Module"
   ]
  },
  {
   "cell_type": "code",
   "execution_count": null,
   "id": "a766b2bd",
   "metadata": {},
   "outputs": [],
   "source": [
    "pwd"
   ]
  },
  {
   "cell_type": "code",
   "execution_count": null,
   "id": "bb0090a6",
   "metadata": {},
   "outputs": [],
   "source": [
    "f = open('practice.txt','w+')"
   ]
  },
  {
   "cell_type": "code",
   "execution_count": null,
   "id": "1bd98c65",
   "metadata": {},
   "outputs": [],
   "source": [
    "f.write(\"This is a test string\")\n",
    "f.close()"
   ]
  },
  {
   "cell_type": "code",
   "execution_count": null,
   "id": "44cc6100",
   "metadata": {},
   "outputs": [],
   "source": [
    "import os"
   ]
  },
  {
   "cell_type": "code",
   "execution_count": null,
   "id": "de12346e",
   "metadata": {},
   "outputs": [],
   "source": [
    "os.getcwd()"
   ]
  },
  {
   "cell_type": "code",
   "execution_count": null,
   "id": "2e790ed5",
   "metadata": {},
   "outputs": [],
   "source": [
    "os.listdir()"
   ]
  },
  {
   "cell_type": "code",
   "execution_count": null,
   "id": "dfbdaadf",
   "metadata": {},
   "outputs": [],
   "source": [
    "os.listdir('C:\\\\Users\\\\leigh\\\\udemy\\\\python\\\\Complete-Python-3-Bootcamp-master')"
   ]
  },
  {
   "cell_type": "code",
   "execution_count": null,
   "id": "db1224c9",
   "metadata": {},
   "outputs": [],
   "source": [
    "import shutil"
   ]
  },
  {
   "cell_type": "code",
   "execution_count": null,
   "id": "fe0aed56",
   "metadata": {},
   "outputs": [],
   "source": [
    "shutil.move('practice.txt','C:\\\\Users\\\\leigh\\\\udemy\\\\java')"
   ]
  },
  {
   "cell_type": "code",
   "execution_count": null,
   "id": "f726d50d",
   "metadata": {},
   "outputs": [],
   "source": [
    "os.listdir('C:\\\\Users\\\\leigh\\\\udemy\\\\java')"
   ]
  },
  {
   "cell_type": "markdown",
   "id": "5eac5c29",
   "metadata": {},
   "source": [
    "### Deleting files\n",
    "There are 3 methods for deleting files with the os module:\n",
    "* os.unlink(path) deletes a file at the provided path\n",
    "* os.rmdir(path) deletes a folder (if the folder is empty) at the provided path\n",
    "* os.rmtree(path) deletes ALL FILES AND FOLDERS at the provided path\n",
    "\n",
    "<br>\n",
    "The above methods are permanent and cannot be undone<br>The send2trash module sends files to the trash bin and can, thus, be reversed"
   ]
  },
  {
   "cell_type": "code",
   "execution_count": null,
   "id": "caca0758",
   "metadata": {},
   "outputs": [],
   "source": [
    "import send2trash"
   ]
  },
  {
   "cell_type": "code",
   "execution_count": null,
   "id": "2194a463",
   "metadata": {},
   "outputs": [],
   "source": [
    "shutil.move('C:\\\\Users\\\\leigh\\\\udemy\\\\java\\\\practice.txt',os.getcwd())"
   ]
  },
  {
   "cell_type": "code",
   "execution_count": null,
   "id": "60650804",
   "metadata": {},
   "outputs": [],
   "source": [
    "send2trash.send2trash('practice.txt')"
   ]
  },
  {
   "cell_type": "code",
   "execution_count": null,
   "id": "501842bc",
   "metadata": {},
   "outputs": [],
   "source": [
    "pwd"
   ]
  },
  {
   "cell_type": "code",
   "execution_count": null,
   "id": "16b652f7",
   "metadata": {},
   "outputs": [],
   "source": [
    "os.listdir()"
   ]
  },
  {
   "cell_type": "code",
   "execution_count": 16,
   "id": "d0864d63",
   "metadata": {},
   "outputs": [],
   "source": [
    "file_path = 'C:\\\\Users\\\\leigh\\\\udemy\\\\python\\\\Complete-Python-3-Bootcamp-master\\\\12-Advanced Python Modules\\\\Example_Top_Level'"
   ]
  },
  {
   "cell_type": "code",
   "execution_count": 17,
   "id": "deda7a85",
   "metadata": {},
   "outputs": [
    {
     "name": "stdout",
     "output_type": "stream",
     "text": [
      "Currently looking atC:\\Users\\leigh\\udemy\\python\\Complete-Python-3-Bootcamp-master\\12-Advanced Python Modules\\Example_Top_Level\n",
      "\n",
      "\n",
      "The subfolders are: \n",
      "\t Subfolder: Mid-Example-One\n",
      "\n",
      "\n",
      "The files are: \n",
      "\t File: Mid-Example.txt\n",
      "\n",
      "\n",
      "Currently looking atC:\\Users\\leigh\\udemy\\python\\Complete-Python-3-Bootcamp-master\\12-Advanced Python Modules\\Example_Top_Level\\Mid-Example-One\n",
      "\n",
      "\n",
      "The subfolders are: \n",
      "\t Subfolder: Bottom-Level-One\n",
      "\t Subfolder: Bottom-Level-Two\n",
      "\n",
      "\n",
      "The files are: \n",
      "\t File: Mid-Level-Doc.txt\n",
      "\n",
      "\n",
      "Currently looking atC:\\Users\\leigh\\udemy\\python\\Complete-Python-3-Bootcamp-master\\12-Advanced Python Modules\\Example_Top_Level\\Mid-Example-One\\Bottom-Level-One\n",
      "\n",
      "\n",
      "The subfolders are: \n",
      "\n",
      "\n",
      "The files are: \n",
      "\t File: One_Text.txt\n",
      "\n",
      "\n",
      "Currently looking atC:\\Users\\leigh\\udemy\\python\\Complete-Python-3-Bootcamp-master\\12-Advanced Python Modules\\Example_Top_Level\\Mid-Example-One\\Bottom-Level-Two\n",
      "\n",
      "\n",
      "The subfolders are: \n",
      "\n",
      "\n",
      "The files are: \n",
      "\t File: Bottom-Text-Two.txt\n",
      "\n",
      "\n"
     ]
    }
   ],
   "source": [
    "for folder, sub_folders, files in os.walk(file_path):\n",
    "    print(f'Currently looking at{folder}')\n",
    "    print('\\n')\n",
    "    print('The subfolders are: ')\n",
    "    for sub_fold in sub_folders:\n",
    "        print(f'\\t Subfolder: {sub_fold}')\n",
    "        \n",
    "    print('\\n')\n",
    "    print(\"The files are: \")\n",
    "    \n",
    "    for file in files:\n",
    "        print(f'\\t File: {file}')\n",
    "    print('\\n')"
   ]
  },
  {
   "cell_type": "markdown",
   "id": "05e624d0",
   "metadata": {},
   "source": [
    " "
   ]
  },
  {
   "cell_type": "markdown",
   "id": "1f9cc7b3",
   "metadata": {},
   "source": [
    "<a id='datetime'></a>\n",
    "## Datetime<br>\n",
    "Create objects with information about dates, times, timezones, time durations, etc"
   ]
  },
  {
   "cell_type": "code",
   "execution_count": null,
   "id": "e04c1bc5",
   "metadata": {},
   "outputs": [],
   "source": [
    "import datetime"
   ]
  },
  {
   "cell_type": "code",
   "execution_count": null,
   "id": "73d702da",
   "metadata": {},
   "outputs": [],
   "source": [
    "mytime = datetime.time(15,20,1,20)"
   ]
  },
  {
   "cell_type": "code",
   "execution_count": null,
   "id": "4259eece",
   "metadata": {},
   "outputs": [],
   "source": [
    "mytime.minute"
   ]
  },
  {
   "cell_type": "code",
   "execution_count": null,
   "id": "263a0f09",
   "metadata": {},
   "outputs": [],
   "source": [
    "print(mytime)"
   ]
  },
  {
   "cell_type": "code",
   "execution_count": null,
   "id": "e79da3bd",
   "metadata": {},
   "outputs": [],
   "source": [
    "today = datetime.date.today()"
   ]
  },
  {
   "cell_type": "code",
   "execution_count": null,
   "id": "3cff4f8c",
   "metadata": {},
   "outputs": [],
   "source": [
    "print(today)"
   ]
  },
  {
   "cell_type": "code",
   "execution_count": null,
   "id": "3471c127",
   "metadata": {},
   "outputs": [],
   "source": [
    "today.ctime()"
   ]
  },
  {
   "cell_type": "code",
   "execution_count": null,
   "id": "94676689",
   "metadata": {},
   "outputs": [],
   "source": [
    "from datetime import datetime"
   ]
  },
  {
   "cell_type": "code",
   "execution_count": null,
   "id": "97b2985b",
   "metadata": {},
   "outputs": [],
   "source": [
    "mydatetime = datetime(today.year,today.month,today.day,17,40)"
   ]
  },
  {
   "cell_type": "code",
   "execution_count": null,
   "id": "ff7680a9",
   "metadata": {},
   "outputs": [],
   "source": [
    "print(mydatetime)"
   ]
  },
  {
   "cell_type": "code",
   "execution_count": null,
   "id": "38762080",
   "metadata": {},
   "outputs": [],
   "source": [
    "yesterday = mydatetime.replace(day=(today.day-1))"
   ]
  },
  {
   "cell_type": "code",
   "execution_count": null,
   "id": "96b10e5c",
   "metadata": {},
   "outputs": [],
   "source": [
    "print(yesterday)"
   ]
  },
  {
   "cell_type": "code",
   "execution_count": null,
   "id": "d32eed1d",
   "metadata": {},
   "outputs": [],
   "source": [
    "from datetime import date"
   ]
  },
  {
   "cell_type": "code",
   "execution_count": null,
   "id": "34d593e2",
   "metadata": {},
   "outputs": [],
   "source": [
    "date1 = date(2023,11,3)\n",
    "date2 = date(2022,1,3)"
   ]
  },
  {
   "cell_type": "code",
   "execution_count": null,
   "id": "04e78515",
   "metadata": {},
   "outputs": [],
   "source": [
    "time_diff = date1 - date2"
   ]
  },
  {
   "cell_type": "code",
   "execution_count": null,
   "id": "4ff5da8e",
   "metadata": {},
   "outputs": [],
   "source": [
    "type(time_diff)"
   ]
  },
  {
   "cell_type": "code",
   "execution_count": null,
   "id": "d4eda8ef",
   "metadata": {},
   "outputs": [],
   "source": [
    "time_diff.days"
   ]
  },
  {
   "cell_type": "code",
   "execution_count": null,
   "id": "23983f04",
   "metadata": {},
   "outputs": [],
   "source": [
    "datetime1 = datetime(2023,11,3,16,20)\n",
    "datetime2 = datetime(2022,1,3,4,20)"
   ]
  },
  {
   "cell_type": "code",
   "execution_count": null,
   "id": "3f28de82",
   "metadata": {},
   "outputs": [],
   "source": [
    "timediff = datetime2 - datetime1"
   ]
  },
  {
   "cell_type": "code",
   "execution_count": null,
   "id": "c60ce64a",
   "metadata": {},
   "outputs": [],
   "source": [
    "43200/60/60"
   ]
  },
  {
   "cell_type": "code",
   "execution_count": null,
   "id": "278695a3",
   "metadata": {},
   "outputs": [],
   "source": [
    "timediff.total_seconds()"
   ]
  },
  {
   "cell_type": "markdown",
   "id": "4582aa96",
   "metadata": {},
   "source": [
    " "
   ]
  },
  {
   "cell_type": "markdown",
   "id": "f554616d",
   "metadata": {},
   "source": [
    " "
   ]
  },
  {
   "cell_type": "markdown",
   "id": "987fd978",
   "metadata": {},
   "source": [
    " "
   ]
  },
  {
   "cell_type": "markdown",
   "id": "98351ac0",
   "metadata": {},
   "source": [
    "# Math and Random"
   ]
  },
  {
   "cell_type": "markdown",
   "id": "d6b8bce5",
   "metadata": {},
   "source": [
    "<a id='math'></a>\n",
    "## Math"
   ]
  },
  {
   "cell_type": "code",
   "execution_count": null,
   "id": "c46312a1",
   "metadata": {},
   "outputs": [],
   "source": [
    "import math"
   ]
  },
  {
   "cell_type": "code",
   "execution_count": null,
   "id": "ba515850",
   "metadata": {},
   "outputs": [],
   "source": [
    "help(math)"
   ]
  },
  {
   "cell_type": "code",
   "execution_count": null,
   "id": "6b337713",
   "metadata": {},
   "outputs": [],
   "source": [
    "value = 4.35"
   ]
  },
  {
   "cell_type": "code",
   "execution_count": null,
   "id": "9204fd05",
   "metadata": {},
   "outputs": [],
   "source": [
    "math.floor(value)"
   ]
  },
  {
   "cell_type": "code",
   "execution_count": null,
   "id": "5862ef95",
   "metadata": {},
   "outputs": [],
   "source": [
    "math.ceil(value)"
   ]
  },
  {
   "cell_type": "code",
   "execution_count": null,
   "id": "5d104021",
   "metadata": {},
   "outputs": [],
   "source": [
    "round(value)"
   ]
  },
  {
   "cell_type": "code",
   "execution_count": null,
   "id": "782c6f3b",
   "metadata": {},
   "outputs": [],
   "source": [
    "round(4.5)"
   ]
  },
  {
   "cell_type": "code",
   "execution_count": null,
   "id": "1b5278e4",
   "metadata": {},
   "outputs": [],
   "source": [
    "round(5.5)"
   ]
  },
  {
   "cell_type": "markdown",
   "id": "8dda3040",
   "metadata": {},
   "source": [
    "round() follows a rule of specifically returning even or odd numbers when values are split down the middle<br>\n",
    "This helps keep averages from being too low or high from always rounding in one direction"
   ]
  },
  {
   "cell_type": "code",
   "execution_count": null,
   "id": "881f65aa",
   "metadata": {},
   "outputs": [],
   "source": [
    "math.pi"
   ]
  },
  {
   "cell_type": "code",
   "execution_count": null,
   "id": "3bf03521",
   "metadata": {},
   "outputs": [],
   "source": [
    "math.e"
   ]
  },
  {
   "cell_type": "code",
   "execution_count": null,
   "id": "82f162ca",
   "metadata": {},
   "outputs": [],
   "source": [
    "math.inf"
   ]
  },
  {
   "cell_type": "code",
   "execution_count": null,
   "id": "3162b683",
   "metadata": {},
   "outputs": [],
   "source": [
    "# not a number\n",
    "math.nan"
   ]
  },
  {
   "cell_type": "markdown",
   "id": "379efb32",
   "metadata": {},
   "source": [
    "The Numpy library is used for numeric processing and is much deeper and more advanced than math"
   ]
  },
  {
   "cell_type": "code",
   "execution_count": null,
   "id": "131d5235",
   "metadata": {},
   "outputs": [],
   "source": [
    "math.log(math.e)"
   ]
  },
  {
   "cell_type": "code",
   "execution_count": null,
   "id": "27bc5e49",
   "metadata": {},
   "outputs": [],
   "source": [
    "math.log(100,10)"
   ]
  },
  {
   "cell_type": "code",
   "execution_count": null,
   "id": "697bdfa6",
   "metadata": {},
   "outputs": [],
   "source": [
    "math.sin(10)"
   ]
  },
  {
   "cell_type": "code",
   "execution_count": null,
   "id": "350d2ba2",
   "metadata": {},
   "outputs": [],
   "source": [
    "math.degrees(math.pi/2)"
   ]
  },
  {
   "cell_type": "markdown",
   "id": "5f7519be",
   "metadata": {},
   "source": [
    " "
   ]
  },
  {
   "cell_type": "markdown",
   "id": "ff740f06",
   "metadata": {},
   "source": [
    "<a id='random'></a>\n",
    "## Random"
   ]
  },
  {
   "cell_type": "code",
   "execution_count": null,
   "id": "b9ddb861",
   "metadata": {},
   "outputs": [],
   "source": [
    "import random"
   ]
  },
  {
   "cell_type": "code",
   "execution_count": null,
   "id": "1698aa65",
   "metadata": {},
   "outputs": [],
   "source": [
    "random.randint(1,100)"
   ]
  },
  {
   "cell_type": "code",
   "execution_count": null,
   "id": "f54daf8a",
   "metadata": {},
   "outputs": [],
   "source": [
    "random.seed(101)\n",
    "\n",
    "random.randint(0,100)"
   ]
  },
  {
   "cell_type": "code",
   "execution_count": null,
   "id": "6d497b97",
   "metadata": {},
   "outputs": [],
   "source": [
    "random.randint(0,100)"
   ]
  },
  {
   "cell_type": "code",
   "execution_count": null,
   "id": "f91546b7",
   "metadata": {},
   "outputs": [],
   "source": [
    "print(random.randint(0,100))\n",
    "print(random.randint(0,100))\n",
    "print(random.randint(0,100))\n",
    "print(random.randint(0,100))\n",
    "print(random.randint(0,100))\n",
    "print(random.randint(0,100))"
   ]
  },
  {
   "cell_type": "code",
   "execution_count": null,
   "id": "6b735c42",
   "metadata": {},
   "outputs": [],
   "source": [
    "mylist = list(range(0,20))"
   ]
  },
  {
   "cell_type": "code",
   "execution_count": null,
   "id": "e379887b",
   "metadata": {},
   "outputs": [],
   "source": [
    "mylist"
   ]
  },
  {
   "cell_type": "code",
   "execution_count": null,
   "id": "2062d250",
   "metadata": {},
   "outputs": [],
   "source": [
    "random.choice(mylist)"
   ]
  },
  {
   "cell_type": "code",
   "execution_count": null,
   "id": "6a605a87",
   "metadata": {},
   "outputs": [],
   "source": [
    "# sample with replacement\n",
    "random.choices(population=mylist,k=10)"
   ]
  },
  {
   "cell_type": "code",
   "execution_count": null,
   "id": "f8c03b7c",
   "metadata": {},
   "outputs": [],
   "source": [
    "# sample without replacement\n",
    "random.sample(population=mylist,k=10)"
   ]
  },
  {
   "cell_type": "code",
   "execution_count": null,
   "id": "df01a16e",
   "metadata": {},
   "outputs": [],
   "source": [
    "mylist"
   ]
  },
  {
   "cell_type": "code",
   "execution_count": null,
   "id": "cd5e9669",
   "metadata": {},
   "outputs": [],
   "source": [
    "random.shuffle(mylist)"
   ]
  },
  {
   "cell_type": "code",
   "execution_count": null,
   "id": "92f623f3",
   "metadata": {},
   "outputs": [],
   "source": [
    "mylist"
   ]
  },
  {
   "cell_type": "code",
   "execution_count": null,
   "id": "47be3220",
   "metadata": {},
   "outputs": [],
   "source": [
    "random.uniform(a=0,b=100)"
   ]
  },
  {
   "cell_type": "code",
   "execution_count": null,
   "id": "602bd7f2",
   "metadata": {},
   "outputs": [],
   "source": [
    "random.gauss(mu=0,sigma=1)"
   ]
  },
  {
   "cell_type": "markdown",
   "id": "df2ff1ea",
   "metadata": {},
   "source": [
    " "
   ]
  },
  {
   "cell_type": "markdown",
   "id": "7da68b87",
   "metadata": {},
   "source": [
    "<a id='debugger'></a>\n",
    "## Python Debugger"
   ]
  },
  {
   "cell_type": "code",
   "execution_count": null,
   "id": "52c18e2a",
   "metadata": {},
   "outputs": [],
   "source": [
    "x = [1,2,3]\n",
    "y = 2\n",
    "z = 3\n",
    "\n",
    "result = y + z\n",
    "result2 = x + y"
   ]
  },
  {
   "cell_type": "code",
   "execution_count": null,
   "id": "c6773e46",
   "metadata": {},
   "outputs": [],
   "source": [
    "import pdb"
   ]
  },
  {
   "cell_type": "code",
   "execution_count": null,
   "id": "36e37146",
   "metadata": {},
   "outputs": [],
   "source": [
    "x = [1,2,3]\n",
    "y = 2\n",
    "z = 3\n",
    "\n",
    "result_one = y + z\n",
    "\n",
    "pdb.set_trace()\n",
    "result_two = y + x"
   ]
  },
  {
   "cell_type": "markdown",
   "id": "2c937d19",
   "metadata": {},
   "source": [
    " "
   ]
  },
  {
   "cell_type": "markdown",
   "id": "ba90712e",
   "metadata": {},
   "source": [
    "<a id='reg_express'></a>\n",
    "## Regular Expressions<br>\n",
    "parse through text to find general patterns (e.g. emails, phone numbers)<br>\n",
    "found in the \"re\" library"
   ]
  },
  {
   "cell_type": "markdown",
   "id": "be018608",
   "metadata": {},
   "source": [
    "regular expressions are strings with an r literal<br>\n",
    "e.g.<br>\n",
    "* Phone Number\n",
    "    * (555)-555-5555\n",
    "* Regex pattern\n",
    "    * r\"(\\d\\d\\d)-\\d\\d\\d-\\d\\d\\d\\d\"\n",
    "\n",
    "In this instance, d stands for \"digit\"<br>\n",
    "Parentheses and dashes don't have identifiers<br>\n",
    "The more efficient way to write this Regex pattern is:\n",
    "* r\"(\\d{3})-\\d{3}-\\d{4}\""
   ]
  },
  {
   "cell_type": "markdown",
   "id": "95db1a70",
   "metadata": {},
   "source": [
    " "
   ]
  },
  {
   "cell_type": "code",
   "execution_count": null,
   "id": "95c07f07",
   "metadata": {},
   "outputs": [],
   "source": [
    "text = \"The agent's phone number is 408-555-1234. Call soon!\""
   ]
  },
  {
   "cell_type": "code",
   "execution_count": null,
   "id": "7214bff9",
   "metadata": {},
   "outputs": [],
   "source": [
    "\"phone\" in text"
   ]
  },
  {
   "cell_type": "code",
   "execution_count": 5,
   "id": "8e57a2f5",
   "metadata": {},
   "outputs": [],
   "source": [
    "import re"
   ]
  },
  {
   "cell_type": "code",
   "execution_count": null,
   "id": "8060650a",
   "metadata": {},
   "outputs": [],
   "source": [
    "pattern = 'phone'"
   ]
  },
  {
   "cell_type": "code",
   "execution_count": null,
   "id": "9bf27055",
   "metadata": {},
   "outputs": [],
   "source": [
    "re.search(pattern,text)"
   ]
  },
  {
   "cell_type": "code",
   "execution_count": null,
   "id": "e13d899a",
   "metadata": {},
   "outputs": [],
   "source": [
    "pattern_one = 'not in text'"
   ]
  },
  {
   "cell_type": "code",
   "execution_count": null,
   "id": "47366f40",
   "metadata": {},
   "outputs": [],
   "source": [
    "re.search(pattern_one,text)"
   ]
  },
  {
   "cell_type": "code",
   "execution_count": null,
   "id": "8f4d2b9e",
   "metadata": {},
   "outputs": [],
   "source": [
    "match = re.search(pattern,text)"
   ]
  },
  {
   "cell_type": "code",
   "execution_count": null,
   "id": "7d67f50c",
   "metadata": {},
   "outputs": [],
   "source": [
    "match"
   ]
  },
  {
   "cell_type": "code",
   "execution_count": null,
   "id": "72604cb4",
   "metadata": {},
   "outputs": [],
   "source": [
    "match.span()"
   ]
  },
  {
   "cell_type": "code",
   "execution_count": null,
   "id": "628f7cd8",
   "metadata": {},
   "outputs": [],
   "source": [
    "match.end()"
   ]
  },
  {
   "cell_type": "code",
   "execution_count": null,
   "id": "bf86ec66",
   "metadata": {},
   "outputs": [],
   "source": [
    "match.start()"
   ]
  },
  {
   "cell_type": "code",
   "execution_count": null,
   "id": "f6887a32",
   "metadata": {},
   "outputs": [],
   "source": [
    "match = re.search('phone',text)"
   ]
  },
  {
   "cell_type": "code",
   "execution_count": null,
   "id": "8b896658",
   "metadata": {},
   "outputs": [],
   "source": [
    "match"
   ]
  },
  {
   "cell_type": "code",
   "execution_count": 9,
   "id": "5beb7ac1",
   "metadata": {},
   "outputs": [],
   "source": [
    "text = \"I have her phone, she has my phone\""
   ]
  },
  {
   "cell_type": "code",
   "execution_count": 10,
   "id": "9ec4b76f",
   "metadata": {},
   "outputs": [],
   "source": [
    "matches = re.findall('phone',text)"
   ]
  },
  {
   "cell_type": "code",
   "execution_count": 11,
   "id": "4bbc1fa2",
   "metadata": {},
   "outputs": [
    {
     "data": {
      "text/plain": [
       "['phone', 'phone']"
      ]
     },
     "execution_count": 11,
     "metadata": {},
     "output_type": "execute_result"
    }
   ],
   "source": [
    "matches"
   ]
  },
  {
   "cell_type": "code",
   "execution_count": 12,
   "id": "ec26697d",
   "metadata": {},
   "outputs": [
    {
     "data": {
      "text/plain": [
       "2"
      ]
     },
     "execution_count": 12,
     "metadata": {},
     "output_type": "execute_result"
    }
   ],
   "source": [
    "len(matches)"
   ]
  },
  {
   "cell_type": "code",
   "execution_count": 14,
   "id": "e0574342",
   "metadata": {},
   "outputs": [
    {
     "name": "stdout",
     "output_type": "stream",
     "text": [
      "<re.Match object; span=(11, 16), match='phone'>\n",
      "<re.Match object; span=(29, 34), match='phone'>\n"
     ]
    }
   ],
   "source": [
    "for match in re.finditer('phone',text):\n",
    "    print(match)"
   ]
  },
  {
   "cell_type": "markdown",
   "id": "92fbc31a",
   "metadata": {},
   "source": [
    " "
   ]
  },
  {
   "cell_type": "markdown",
   "id": "13a95fc2",
   "metadata": {},
   "source": [
    "### Character identifiers\n",
    "\\d digits (e.g. numbers)<br>\n",
    "\\w alphanumeric (e.g. letters, numbers, certain special characters)<br>\n",
    "\\s white space (e.g. spaces)<br>\n",
    "\\D non-digits (e.g. letters)<br>\n",
    "\\W non-alphanumeric (e.g. special characters)<br>\n",
    "\\S non-whitespace (e.g. no spaces)"
   ]
  },
  {
   "cell_type": "code",
   "execution_count": 6,
   "id": "f7a3e44c",
   "metadata": {},
   "outputs": [],
   "source": [
    "text = 'My phone number is 408-555-1234'"
   ]
  },
  {
   "cell_type": "code",
   "execution_count": 7,
   "id": "37cac299",
   "metadata": {},
   "outputs": [],
   "source": [
    "phone = re.search(r\"\\W*\\d{3}\\W*-\\d{3}-\\d{4}\",text)"
   ]
  },
  {
   "cell_type": "code",
   "execution_count": 8,
   "id": "c3aa66ad",
   "metadata": {},
   "outputs": [
    {
     "data": {
      "text/plain": [
       "<re.Match object; span=(18, 31), match=' 408-555-1234'>"
      ]
     },
     "execution_count": 8,
     "metadata": {},
     "output_type": "execute_result"
    }
   ],
   "source": [
    "phone"
   ]
  },
  {
   "cell_type": "markdown",
   "id": "180a589c",
   "metadata": {},
   "source": [
    " "
   ]
  },
  {
   "cell_type": "markdown",
   "id": "b0902e69",
   "metadata": {},
   "source": [
    "### Quantifiers\n",
    "\\+ occurs one or more times<br>\n",
    "{x} occurs exactly x times<br>\n",
    "{x,y} occurs x to y times<br>\n",
    "{x,} occurs at least 3 times<br>\n",
    "\\* occurs zero or more times<br>\n",
    "? occurs once or not at all"
   ]
  },
  {
   "cell_type": "code",
   "execution_count": null,
   "id": "a09b411e",
   "metadata": {},
   "outputs": [],
   "source": [
    "phone_pattern = re.compile(r'(\\W*\\d{3}\\W*)-(\\d{3})-(\\d{4})')"
   ]
  },
  {
   "cell_type": "code",
   "execution_count": null,
   "id": "8ad1a876",
   "metadata": {},
   "outputs": [],
   "source": [
    "results = re.search(phone_pattern,text)"
   ]
  },
  {
   "cell_type": "code",
   "execution_count": null,
   "id": "75a80b8c",
   "metadata": {},
   "outputs": [],
   "source": [
    "results.group()"
   ]
  },
  {
   "cell_type": "code",
   "execution_count": null,
   "id": "804950d4",
   "metadata": {},
   "outputs": [],
   "source": [
    "results.group(1)"
   ]
  },
  {
   "cell_type": "markdown",
   "id": "c09722ab",
   "metadata": {},
   "source": [
    "### Additional Syntax and Grouping"
   ]
  },
  {
   "cell_type": "code",
   "execution_count": null,
   "id": "9e6bd477",
   "metadata": {},
   "outputs": [],
   "source": [
    "# \"or\" syntax\n",
    "\n",
    "re.search(r'cat | dog', 'The cat is here')"
   ]
  },
  {
   "cell_type": "code",
   "execution_count": null,
   "id": "5f185e4a",
   "metadata": {},
   "outputs": [],
   "source": [
    "# wildcards grab any character connected to the rest of the string\n",
    "re.findall(r'...at', \"The cat in the hat went flat\")\n",
    "# character IDs can also be used"
   ]
  },
  {
   "cell_type": "code",
   "execution_count": null,
   "id": "fdf96a71",
   "metadata": {},
   "outputs": [],
   "source": [
    "# the caron is used to find strings that start with a particular character\n",
    "re.findall(r'^\\d', '1 is a number')"
   ]
  },
  {
   "cell_type": "code",
   "execution_count": null,
   "id": "401d6753",
   "metadata": {},
   "outputs": [],
   "source": [
    "# the dollar sign at the end searches for a character at the end of a string\n",
    "re.findall(r'\\d$', \"My favorite number is 69\")"
   ]
  },
  {
   "cell_type": "markdown",
   "id": "9dba4a29",
   "metadata": {},
   "source": [
    " "
   ]
  },
  {
   "cell_type": "markdown",
   "id": "63da0056",
   "metadata": {},
   "source": [
    " "
   ]
  },
  {
   "cell_type": "markdown",
   "id": "8fe56f3f",
   "metadata": {},
   "source": [
    " "
   ]
  },
  {
   "cell_type": "code",
   "execution_count": null,
   "id": "9e854575",
   "metadata": {},
   "outputs": [],
   "source": [
    "# brackets are used to group characters in a search\n",
    "phrase = \"my favorite numbers are 69 and also 420 but 666 is cool too\"\n",
    "re.findall(r'[^\\d]+', phrase)"
   ]
  },
  {
   "cell_type": "code",
   "execution_count": null,
   "id": "5cf0daaf",
   "metadata": {},
   "outputs": [],
   "source": [
    "# this is useful for removing punctuation from a sentence\n",
    "test_phrase = 'This is a string! It has punctuation, so we need to remove it. How do we do that?'"
   ]
  },
  {
   "cell_type": "code",
   "execution_count": null,
   "id": "861fe8a9",
   "metadata": {},
   "outputs": [],
   "source": [
    "clean = re.findall(r'[^!?,. ]+', test_phrase)\n",
    "' '.join(clean)"
   ]
  },
  {
   "cell_type": "markdown",
   "id": "393d69e6",
   "metadata": {},
   "source": [
    " "
   ]
  },
  {
   "cell_type": "markdown",
   "id": "436a7826",
   "metadata": {},
   "source": [
    " "
   ]
  },
  {
   "cell_type": "markdown",
   "id": "2864be1b",
   "metadata": {},
   "source": [
    " "
   ]
  },
  {
   "cell_type": "code",
   "execution_count": null,
   "id": "8b3a4fef",
   "metadata": {},
   "outputs": [],
   "source": [
    "# whereas the caron groups for exclusion, you can also group for inclusion\n",
    "text = \"Only find the hyphen-ated words in this sen-tence but you don't know how long-ish they are\"\n",
    "pattern = r'[\\w]+-[\\w]+'"
   ]
  },
  {
   "cell_type": "code",
   "execution_count": null,
   "id": "41d16b99",
   "metadata": {},
   "outputs": [],
   "source": [
    "re.findall(pattern,text)"
   ]
  },
  {
   "cell_type": "code",
   "execution_count": null,
   "id": "132ec66f",
   "metadata": {},
   "outputs": [],
   "source": [
    "text = \"Hello, would you like some catfish?\"\n",
    "text_two = \"Hello, would you like to take a catnap\"\n",
    "text_three = \"Hello, would you like to see this caterpillar\""
   ]
  },
  {
   "cell_type": "code",
   "execution_count": null,
   "id": "42434d75",
   "metadata": {},
   "outputs": [],
   "source": [
    "# parentheses are used to group multiple options for searches\n",
    "re.search(r'cat(fish|nap|erpillar)', text_three)"
   ]
  },
  {
   "cell_type": "markdown",
   "id": "862207ce",
   "metadata": {},
   "source": [
    "<a id='timeit'></a>\n",
    "## Timeit"
   ]
  },
  {
   "cell_type": "code",
   "execution_count": null,
   "id": "1943dc4e",
   "metadata": {},
   "outputs": [],
   "source": [
    "def func_one(n):\n",
    "    return [str(num) for num in range(n)]"
   ]
  },
  {
   "cell_type": "code",
   "execution_count": null,
   "id": "18ebe460",
   "metadata": {},
   "outputs": [],
   "source": [
    "func_one(10)"
   ]
  },
  {
   "cell_type": "code",
   "execution_count": null,
   "id": "d36b6858",
   "metadata": {},
   "outputs": [],
   "source": [
    "def func_two(n):\n",
    "    return list(map(str,range(n)))"
   ]
  },
  {
   "cell_type": "code",
   "execution_count": null,
   "id": "f145b52f",
   "metadata": {},
   "outputs": [],
   "source": [
    "func_two(10)"
   ]
  },
  {
   "cell_type": "code",
   "execution_count": null,
   "id": "016c9ee0",
   "metadata": {},
   "outputs": [],
   "source": [
    "import time"
   ]
  },
  {
   "cell_type": "code",
   "execution_count": null,
   "id": "a225a10b",
   "metadata": {},
   "outputs": [],
   "source": [
    "# grab current time before running code\n",
    "start_time = time.time()\n",
    "#run code\n",
    "result = func_one(100000)\n",
    "#current time after running code\n",
    "end_time = time.time()\n",
    "elapsed_time = end_time-start_time\n",
    "\n",
    "print(elapsed_time)"
   ]
  },
  {
   "cell_type": "code",
   "execution_count": null,
   "id": "e1ab8e0b",
   "metadata": {},
   "outputs": [],
   "source": [
    "import timeit"
   ]
  },
  {
   "cell_type": "code",
   "execution_count": null,
   "id": "a243d855",
   "metadata": {},
   "outputs": [],
   "source": [
    "stmt = '''\n",
    "func_one(100)\n",
    "'''"
   ]
  },
  {
   "cell_type": "code",
   "execution_count": null,
   "id": "a807100c",
   "metadata": {},
   "outputs": [],
   "source": [
    "setup = '''\n",
    "def func_one(n):\n",
    "    return [str(num) for num in range(n)]\n",
    "'''"
   ]
  },
  {
   "cell_type": "code",
   "execution_count": null,
   "id": "b83c51bd",
   "metadata": {},
   "outputs": [],
   "source": [
    "stmt_two = '''\n",
    "func_two(100)\n",
    "'''"
   ]
  },
  {
   "cell_type": "code",
   "execution_count": null,
   "id": "732dd042",
   "metadata": {},
   "outputs": [],
   "source": [
    "setup_two= '''\n",
    "def func_two(n):\n",
    "    return list(map(str,range(n)))\n",
    "'''"
   ]
  },
  {
   "cell_type": "code",
   "execution_count": null,
   "id": "e2dd9695",
   "metadata": {},
   "outputs": [],
   "source": [
    "timeit.timeit(stmt,setup,number=100000)"
   ]
  },
  {
   "cell_type": "code",
   "execution_count": null,
   "id": "8e5367da",
   "metadata": {},
   "outputs": [],
   "source": [
    "timeit.timeit(stmt_two,setup_two,number=100000)"
   ]
  },
  {
   "cell_type": "code",
   "execution_count": null,
   "id": "cc5ab365",
   "metadata": {},
   "outputs": [],
   "source": [
    "%%timeit\n",
    "func_one(100)"
   ]
  },
  {
   "cell_type": "code",
   "execution_count": null,
   "id": "7edf88d7",
   "metadata": {},
   "outputs": [],
   "source": [
    "%%timeit\n",
    "func_two(100)"
   ]
  },
  {
   "cell_type": "markdown",
   "id": "613a0c36",
   "metadata": {},
   "source": [
    "<a id='zip_unzip'></a>\n",
    "## Zipping and Unzipping Files"
   ]
  },
  {
   "cell_type": "code",
   "execution_count": null,
   "id": "f981c4dc",
   "metadata": {},
   "outputs": [],
   "source": [
    "f = open('fileone.txt','w+')\n",
    "f.write(\"one file\")\n",
    "f.close()"
   ]
  },
  {
   "cell_type": "code",
   "execution_count": null,
   "id": "4c1f1068",
   "metadata": {},
   "outputs": [],
   "source": [
    "f = open('filetwo.txt','w+')\n",
    "f.write(\"two file\")\n",
    "f.close()"
   ]
  },
  {
   "cell_type": "code",
   "execution_count": null,
   "id": "2b605501",
   "metadata": {},
   "outputs": [],
   "source": [
    "import zipfile"
   ]
  },
  {
   "cell_type": "code",
   "execution_count": null,
   "id": "c3b53b2e",
   "metadata": {},
   "outputs": [],
   "source": [
    "comp_file = zipfile.ZipFile('comp_file.zip','w')"
   ]
  },
  {
   "cell_type": "code",
   "execution_count": null,
   "id": "d7b5148a",
   "metadata": {},
   "outputs": [],
   "source": [
    "comp_file.write('fileone.txt',compress_type=zipfile.ZIP_DEFLATED)"
   ]
  },
  {
   "cell_type": "code",
   "execution_count": null,
   "id": "110b7a67",
   "metadata": {},
   "outputs": [],
   "source": [
    "comp_file.write('filetwo.txt',compress_type=zipfile.ZIP_DEFLATED)"
   ]
  },
  {
   "cell_type": "code",
   "execution_count": null,
   "id": "657e743b",
   "metadata": {},
   "outputs": [],
   "source": [
    "comp_file.close()"
   ]
  },
  {
   "cell_type": "code",
   "execution_count": null,
   "id": "1e5bac5e",
   "metadata": {},
   "outputs": [],
   "source": [
    "zip_obj = zipfile.ZipFile('comp_file.zip','r')"
   ]
  },
  {
   "cell_type": "code",
   "execution_count": null,
   "id": "62b6fd03",
   "metadata": {},
   "outputs": [],
   "source": [
    "zip_obj.extractall('extracted_content')"
   ]
  },
  {
   "cell_type": "code",
   "execution_count": null,
   "id": "1111747e",
   "metadata": {},
   "outputs": [],
   "source": [
    "import shutil"
   ]
  },
  {
   "cell_type": "code",
   "execution_count": null,
   "id": "234fb94e",
   "metadata": {},
   "outputs": [],
   "source": [
    "pwd"
   ]
  },
  {
   "cell_type": "code",
   "execution_count": null,
   "id": "5c321e00",
   "metadata": {},
   "outputs": [],
   "source": [
    "dir_zip = 'C:\\\\Users\\\\leigh\\\\udemy\\\\python\\\\extracted_content'"
   ]
  },
  {
   "cell_type": "code",
   "execution_count": null,
   "id": "944fce8a",
   "metadata": {},
   "outputs": [],
   "source": [
    "output_filename = 'example'"
   ]
  },
  {
   "cell_type": "code",
   "execution_count": null,
   "id": "edf23656",
   "metadata": {},
   "outputs": [],
   "source": [
    "shutil.make_archive(output_filename,'zip',dir_zip)"
   ]
  },
  {
   "cell_type": "code",
   "execution_count": null,
   "id": "6c3aac48",
   "metadata": {},
   "outputs": [],
   "source": [
    "shutil.unpack_archive('example.zip','unzip_dir','zip')"
   ]
  },
  {
   "cell_type": "code",
   "execution_count": null,
   "id": "da2eef74",
   "metadata": {},
   "outputs": [],
   "source": []
  }
 ],
 "metadata": {
  "kernelspec": {
   "display_name": "Python 3",
   "language": "python",
   "name": "python3"
  },
  "language_info": {
   "codemirror_mode": {
    "name": "ipython",
    "version": 3
   },
   "file_extension": ".py",
   "mimetype": "text/x-python",
   "name": "python",
   "nbconvert_exporter": "python",
   "pygments_lexer": "ipython3",
   "version": "3.8.8"
  }
 },
 "nbformat": 4,
 "nbformat_minor": 5
}
