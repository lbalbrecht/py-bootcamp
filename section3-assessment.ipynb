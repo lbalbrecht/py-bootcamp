{
 "cells": [
  {
   "cell_type": "code",
   "execution_count": 2,
   "id": "d84d91fb",
   "metadata": {},
   "outputs": [],
   "source": [
    "# Numbers: any numeric value in code, can be used for mathmatical equations and for numeric data\n",
    "# Includes both integers (whole numbers) and floats (decimals)"
   ]
  },
  {
   "cell_type": "code",
   "execution_count": 3,
   "id": "8773db8f",
   "metadata": {},
   "outputs": [],
   "source": [
    "# Strings: a group of characters used for labels, objects, and non-numeric data, indicated by single or double quotes\n",
    "# Strings may contain any characters"
   ]
  },
  {
   "cell_type": "code",
   "execution_count": 4,
   "id": "aa9ebe58",
   "metadata": {},
   "outputs": [],
   "source": [
    "# Lists: A mutable group of objects. May include multiple datatypes and identical objects\n",
    "# Indicated by brackets"
   ]
  },
  {
   "cell_type": "code",
   "execution_count": 5,
   "id": "ca0ac1d0",
   "metadata": {},
   "outputs": [],
   "source": [
    "# Tuples: An immutable group of objects. Otherwise follows the same rules as a list\n",
    "# Indicated by parentheses"
   ]
  },
  {
   "cell_type": "code",
   "execution_count": 7,
   "id": "a07b8945",
   "metadata": {},
   "outputs": [],
   "source": [
    "# Dictionaries: a group of objects that is unordered and cannot be sorted; each object is assigned a label\n",
    "# Dictionaries allow for objects to be called without knowing its exact location\n",
    "# Dictionaries are indicated by curly brackets"
   ]
  },
  {
   "cell_type": "code",
   "execution_count": 8,
   "id": "eaf896a2",
   "metadata": {},
   "outputs": [],
   "source": []
  },
  {
   "cell_type": "code",
   "execution_count": 9,
   "id": "f5637569",
   "metadata": {},
   "outputs": [],
   "source": [
    "# Write an equation that uses multiplication, division, an exponent, addition, and subtraction that is equal to 100.25."
   ]
  },
  {
   "cell_type": "code",
   "execution_count": 13,
   "id": "fbfdd29e",
   "metadata": {},
   "outputs": [
    {
     "data": {
      "text/plain": [
       "100.25"
      ]
     },
     "execution_count": 13,
     "metadata": {},
     "output_type": "execute_result"
    }
   ],
   "source": [
    "(10*(40+1)-9)/4"
   ]
  },
  {
   "cell_type": "code",
   "execution_count": 14,
   "id": "5179926c",
   "metadata": {},
   "outputs": [],
   "source": [
    "# What is the value of the expression 4 * (6 + 5)\n",
    "# 44"
   ]
  },
  {
   "cell_type": "code",
   "execution_count": 15,
   "id": "7ae945c0",
   "metadata": {},
   "outputs": [],
   "source": [
    "# What is the value of the expression 4 * 6 + 5 \n",
    "# 29"
   ]
  },
  {
   "cell_type": "code",
   "execution_count": 16,
   "id": "cdc06e59",
   "metadata": {},
   "outputs": [],
   "source": [
    "# What is the value of the expression 4 + 6 * 5 \n",
    "# 34"
   ]
  },
  {
   "cell_type": "code",
   "execution_count": null,
   "id": "77550a19",
   "metadata": {},
   "outputs": [],
   "source": [
    "# What is the type of the result of the expression 3 + 1.5 + 4?\n",
    "\n",
    "# Float\n",
    "# Floating point number in Python"
   ]
  },
  {
   "cell_type": "code",
   "execution_count": 67,
   "id": "f111ed89",
   "metadata": {},
   "outputs": [],
   "source": [
    "# What would you use to find a number’s square root, as well as its square?\n",
    "# Square root: x**0.5\n",
    "# Square: x**2"
   ]
  },
  {
   "cell_type": "code",
   "execution_count": null,
   "id": "c9926a28",
   "metadata": {},
   "outputs": [],
   "source": []
  },
  {
   "cell_type": "code",
   "execution_count": 70,
   "id": "f4da96e8",
   "metadata": {},
   "outputs": [
    {
     "name": "stdout",
     "output_type": "stream",
     "text": [
      "e\n"
     ]
    }
   ],
   "source": [
    "# Given the string 'hello' give an index command that returns 'e'. Enter your code in the cell below:\n",
    "s = 'hello'\n",
    "print(s[1])"
   ]
  },
  {
   "cell_type": "code",
   "execution_count": 78,
   "id": "45957261",
   "metadata": {},
   "outputs": [
    {
     "data": {
      "text/plain": [
       "'olleh'"
      ]
     },
     "execution_count": 78,
     "metadata": {},
     "output_type": "execute_result"
    }
   ],
   "source": [
    "# Reverse the following string using slicing\n",
    "s = 'hello'\n",
    "s[::-1]"
   ]
  },
  {
   "cell_type": "code",
   "execution_count": 77,
   "id": "c8819ae7",
   "metadata": {},
   "outputs": [
    {
     "name": "stdout",
     "output_type": "stream",
     "text": [
      "o\n",
      "o\n"
     ]
    }
   ],
   "source": [
    "# Given the string hello, give two methods of producing the letter 'o' using indexing.\n",
    "s = 'hello'\n",
    "print(s[4])\n",
    "print(s[-1])"
   ]
  },
  {
   "cell_type": "code",
   "execution_count": 21,
   "id": "d2eadee2",
   "metadata": {},
   "outputs": [
    {
     "name": "stdout",
     "output_type": "stream",
     "text": [
      "[0, 0, 0]\n",
      "[0, 0, 0]\n"
     ]
    }
   ],
   "source": [
    "# Build this list [0, 0, 0] in two separate ways\n",
    "method1 = [0, 0]\n",
    "method2 = [0, 0, 0, 0]\n",
    "\n",
    "method1.append(0)\n",
    "method2.pop()\n",
    "\n",
    "print(method1)\n",
    "print(method2)"
   ]
  },
  {
   "cell_type": "code",
   "execution_count": 25,
   "id": "9310e43d",
   "metadata": {},
   "outputs": [
    {
     "name": "stdout",
     "output_type": "stream",
     "text": [
      "[1, 2, [3, 4, 'goodbye']]\n"
     ]
    }
   ],
   "source": [
    "# Reassign 'hello' in this nested list to say 'goodbye' instead:\n",
    "list3 = [1,2,[3,4,'hello']]\n",
    "list3[2].pop()\n",
    "list3[2].append(\"goodbye\")\n",
    "print(list3)"
   ]
  },
  {
   "cell_type": "code",
   "execution_count": 27,
   "id": "a23cb56e",
   "metadata": {},
   "outputs": [
    {
     "name": "stdout",
     "output_type": "stream",
     "text": [
      "[1, 3, 4, 5, 6]\n"
     ]
    }
   ],
   "source": [
    "# Sort the list below\n",
    "list4 = [5, 3, 4, 6, 1]\n",
    "list4.sort()\n",
    "print(list4)"
   ]
  },
  {
   "cell_type": "code",
   "execution_count": null,
   "id": "3a23d6d7",
   "metadata": {},
   "outputs": [],
   "source": []
  },
  {
   "cell_type": "code",
   "execution_count": 28,
   "id": "3854ba9f",
   "metadata": {},
   "outputs": [],
   "source": [
    "#Using keys and indexing, grab the 'hello' from the following dictionaries"
   ]
  },
  {
   "cell_type": "code",
   "execution_count": 34,
   "id": "3fab0e4d",
   "metadata": {},
   "outputs": [
    {
     "data": {
      "text/plain": [
       "'hello'"
      ]
     },
     "execution_count": 34,
     "metadata": {},
     "output_type": "execute_result"
    }
   ],
   "source": [
    "d = {'simple_key':'hello'}\n",
    "d[\"simple_key\"]"
   ]
  },
  {
   "cell_type": "code",
   "execution_count": 36,
   "id": "b5ef7379",
   "metadata": {},
   "outputs": [
    {
     "data": {
      "text/plain": [
       "'hello'"
      ]
     },
     "execution_count": 36,
     "metadata": {},
     "output_type": "execute_result"
    }
   ],
   "source": [
    "d = {'k1':{'k2':'hello'}}\n",
    "d['k1']['k2']"
   ]
  },
  {
   "cell_type": "code",
   "execution_count": 40,
   "id": "dec3847f",
   "metadata": {},
   "outputs": [
    {
     "data": {
      "text/plain": [
       "'hello'"
      ]
     },
     "execution_count": 40,
     "metadata": {},
     "output_type": "execute_result"
    }
   ],
   "source": [
    "d = {'k1':[{'nest_key':['this is deep',['hello']]}]}\n",
    "d['k1'][0]['nest_key'][1][0]"
   ]
  },
  {
   "cell_type": "code",
   "execution_count": 42,
   "id": "30776d43",
   "metadata": {},
   "outputs": [
    {
     "data": {
      "text/plain": [
       "'hello'"
      ]
     },
     "execution_count": 42,
     "metadata": {},
     "output_type": "execute_result"
    }
   ],
   "source": [
    "d = {'k1':[1,2,{'k2':['this is tricky',{'tough':[1,2,['hello']]}]}]}\n",
    "d['k1'][2]['k2'][1]['tough'][2][0]"
   ]
  },
  {
   "cell_type": "code",
   "execution_count": 43,
   "id": "da25df5c",
   "metadata": {},
   "outputs": [],
   "source": [
    "# Can you sort a dictionary? Why or why not?\n",
    "# You cannot sort a dictionary. The objects are unordered mappings, not an ordered sequence"
   ]
  },
  {
   "cell_type": "code",
   "execution_count": null,
   "id": "bffb7866",
   "metadata": {},
   "outputs": [],
   "source": []
  },
  {
   "cell_type": "code",
   "execution_count": 44,
   "id": "48a5c148",
   "metadata": {},
   "outputs": [],
   "source": [
    "# What is the major difference between tuples and lists\n",
    "# Tuples are immutable whereas lists are mutable"
   ]
  },
  {
   "cell_type": "code",
   "execution_count": 45,
   "id": "55f7e4f7",
   "metadata": {},
   "outputs": [],
   "source": [
    "# How do you create a tuple?\n",
    "# Tuples are groups of multiple objects indicated by parentheses"
   ]
  },
  {
   "cell_type": "code",
   "execution_count": null,
   "id": "6b15ac5a",
   "metadata": {},
   "outputs": [],
   "source": []
  },
  {
   "cell_type": "code",
   "execution_count": 46,
   "id": "a8d98347",
   "metadata": {},
   "outputs": [],
   "source": [
    "# What is unique about a set?\n",
    "# All objects in a set must be unique"
   ]
  },
  {
   "cell_type": "code",
   "execution_count": 48,
   "id": "baf057ac",
   "metadata": {},
   "outputs": [
    {
     "data": {
      "text/plain": [
       "{1, 2, 3, 4, 11, 22, 33}"
      ]
     },
     "execution_count": 48,
     "metadata": {},
     "output_type": "execute_result"
    }
   ],
   "source": [
    "# Use a set to find the unique values of the list below:\n",
    "list5 = [1,2,2,33,4,4,11,22,3,3,2]\n",
    "set(list5)"
   ]
  },
  {
   "cell_type": "code",
   "execution_count": null,
   "id": "05425333",
   "metadata": {},
   "outputs": [],
   "source": []
  },
  {
   "cell_type": "code",
   "execution_count": 49,
   "id": "54a98f05",
   "metadata": {},
   "outputs": [],
   "source": [
    "# What will be the resulting Boolean of the following pieces of code"
   ]
  },
  {
   "cell_type": "code",
   "execution_count": 50,
   "id": "52eff967",
   "metadata": {},
   "outputs": [],
   "source": [
    "# 2 > 3\n",
    "# false"
   ]
  },
  {
   "cell_type": "code",
   "execution_count": 51,
   "id": "c9e905c2",
   "metadata": {},
   "outputs": [],
   "source": [
    "# 3 <= 2\n",
    "# false"
   ]
  },
  {
   "cell_type": "code",
   "execution_count": 52,
   "id": "de7248f3",
   "metadata": {},
   "outputs": [],
   "source": [
    "# 3 == 2.0\n",
    "# false"
   ]
  },
  {
   "cell_type": "code",
   "execution_count": 53,
   "id": "6b32b1f2",
   "metadata": {},
   "outputs": [],
   "source": [
    "# 3.0 == 3\n",
    "# true"
   ]
  },
  {
   "cell_type": "code",
   "execution_count": 54,
   "id": "1d56ee45",
   "metadata": {},
   "outputs": [],
   "source": [
    "#  4**0.5 != 2\n",
    "# false"
   ]
  },
  {
   "cell_type": "code",
   "execution_count": null,
   "id": "8eedc2ab",
   "metadata": {},
   "outputs": [],
   "source": []
  },
  {
   "cell_type": "code",
   "execution_count": 56,
   "id": "e2f81484",
   "metadata": {},
   "outputs": [
    {
     "data": {
      "text/plain": [
       "False"
      ]
     },
     "execution_count": 56,
     "metadata": {},
     "output_type": "execute_result"
    }
   ],
   "source": [
    "2 > 3"
   ]
  },
  {
   "cell_type": "code",
   "execution_count": 57,
   "id": "79fb4744",
   "metadata": {},
   "outputs": [
    {
     "data": {
      "text/plain": [
       "False"
      ]
     },
     "execution_count": 57,
     "metadata": {},
     "output_type": "execute_result"
    }
   ],
   "source": [
    "3 <= 2"
   ]
  },
  {
   "cell_type": "code",
   "execution_count": 59,
   "id": "12a01000",
   "metadata": {},
   "outputs": [
    {
     "data": {
      "text/plain": [
       "False"
      ]
     },
     "execution_count": 59,
     "metadata": {},
     "output_type": "execute_result"
    }
   ],
   "source": [
    "3 == 2.0"
   ]
  },
  {
   "cell_type": "code",
   "execution_count": 61,
   "id": "3af25b95",
   "metadata": {},
   "outputs": [
    {
     "data": {
      "text/plain": [
       "True"
      ]
     },
     "execution_count": 61,
     "metadata": {},
     "output_type": "execute_result"
    }
   ],
   "source": [
    "3.0 == 3"
   ]
  },
  {
   "cell_type": "code",
   "execution_count": 63,
   "id": "52cc3679",
   "metadata": {},
   "outputs": [
    {
     "data": {
      "text/plain": [
       "False"
      ]
     },
     "execution_count": 63,
     "metadata": {},
     "output_type": "execute_result"
    }
   ],
   "source": [
    "4**0.5 != 2"
   ]
  },
  {
   "cell_type": "code",
   "execution_count": null,
   "id": "e85e1b69",
   "metadata": {},
   "outputs": [],
   "source": []
  },
  {
   "cell_type": "code",
   "execution_count": 64,
   "id": "6172d972",
   "metadata": {},
   "outputs": [],
   "source": [
    "# What is the boolean output of the cell block below?\n",
    "\n",
    "# l_one = [1,2,[3,4]]\n",
    "# l_two = [1,2,{'k1':4}]\n",
    "\n",
    "# l_one[2][0] >= l_two[2]['k1']\n",
    "\n",
    "# false"
   ]
  },
  {
   "cell_type": "code",
   "execution_count": 65,
   "id": "1451c46b",
   "metadata": {},
   "outputs": [
    {
     "data": {
      "text/plain": [
       "False"
      ]
     },
     "execution_count": 65,
     "metadata": {},
     "output_type": "execute_result"
    }
   ],
   "source": [
    "l_one = [1,2,[3,4]]\n",
    "l_two = [1,2,{'k1':4}]\n",
    "\n",
    "l_one[2][0] >= l_two[2]['k1']"
   ]
  }
 ],
 "metadata": {
  "kernelspec": {
   "display_name": "Python 3",
   "language": "python",
   "name": "python3"
  },
  "language_info": {
   "codemirror_mode": {
    "name": "ipython",
    "version": 3
   },
   "file_extension": ".py",
   "mimetype": "text/x-python",
   "name": "python",
   "nbconvert_exporter": "python",
   "pygments_lexer": "ipython3",
   "version": "3.8.8"
  }
 },
 "nbformat": 4,
 "nbformat_minor": 5
}
