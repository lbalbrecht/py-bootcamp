{
 "cells": [
  {
   "cell_type": "code",
   "execution_count": 3,
   "id": "12742a80",
   "metadata": {},
   "outputs": [
    {
     "name": "stdout",
     "output_type": "stream",
     "text": [
      "IS TRU\n"
     ]
    }
   ],
   "source": [
    "if True:\n",
    "    print(\"IS TRU\")"
   ]
  },
  {
   "cell_type": "code",
   "execution_count": 6,
   "id": "e65eb799",
   "metadata": {},
   "outputs": [
    {
     "name": "stdout",
     "output_type": "stream",
     "text": [
      "Feeeeed meeeeee\n"
     ]
    }
   ],
   "source": [
    "hungry = True\n",
    "\n",
    "if hungry:\n",
    "    print(\"Feeeeed meeeeee\")"
   ]
  },
  {
   "cell_type": "code",
   "execution_count": 10,
   "id": "beccf87f",
   "metadata": {},
   "outputs": [
    {
     "name": "stdout",
     "output_type": "stream",
     "text": [
      "What's goin on?\n"
     ]
    }
   ],
   "source": [
    "loc = 'Shop'\n",
    "# loc is shorthand for 'location'\n",
    "\n",
    "if loc == \"Auto shop\":\n",
    "    print(\"broom broom in me mum's car\")\n",
    "elif loc == \"Bank\":\n",
    "    print(\"Holla holla get dolla\")\n",
    "else:\n",
    "    print(\"What's goin on?\")"
   ]
  },
  {
   "cell_type": "code",
   "execution_count": 14,
   "id": "f0a2ce65",
   "metadata": {},
   "outputs": [],
   "source": [
    "# Iteration is running through a set of objects including string characters, list items, and dictionary keys\n",
    "# Just for loops"
   ]
  },
  {
   "cell_type": "code",
   "execution_count": 16,
   "id": "fcc77881",
   "metadata": {},
   "outputs": [
    {
     "name": "stdout",
     "output_type": "stream",
     "text": [
      "1\n",
      "2\n",
      "3\n"
     ]
    }
   ],
   "source": [
    "my_iterable = [1,2,3]\n",
    "for item_name in my_iterable:\n",
    "    print(item_name)"
   ]
  },
  {
   "cell_type": "code",
   "execution_count": 18,
   "id": "a2c1f998",
   "metadata": {},
   "outputs": [],
   "source": [
    "mylist = [1,2,3,4,5,6,7,8,9,10]"
   ]
  },
  {
   "cell_type": "code",
   "execution_count": 22,
   "id": "2a70fddf",
   "metadata": {},
   "outputs": [
    {
     "name": "stdout",
     "output_type": "stream",
     "text": [
      "It worked!\n",
      "It worked!\n",
      "It worked!\n",
      "It worked!\n",
      "It worked!\n",
      "It worked!\n",
      "It worked!\n",
      "It worked!\n",
      "It worked!\n",
      "It worked!\n"
     ]
    }
   ],
   "source": [
    "for num in mylist:\n",
    "    print(\"It worked!\")"
   ]
  },
  {
   "cell_type": "code",
   "execution_count": 26,
   "id": "cd6f3900",
   "metadata": {},
   "outputs": [
    {
     "name": "stdout",
     "output_type": "stream",
     "text": [
      "1 is odd\n",
      "2 is even\n",
      "3 is odd\n",
      "4 is even\n",
      "5 is odd\n",
      "6 is even\n",
      "7 is odd\n",
      "8 is even\n",
      "9 is odd\n",
      "10 is even\n"
     ]
    }
   ],
   "source": [
    "for num in mylist:\n",
    "    if num % 2 == 0:\n",
    "        print(f\"{num} is even\")\n",
    "    else:\n",
    "        print(f\"{num} is odd\")"
   ]
  },
  {
   "cell_type": "code",
   "execution_count": 32,
   "id": "0eeae71e",
   "metadata": {},
   "outputs": [
    {
     "name": "stdout",
     "output_type": "stream",
     "text": [
      "1\n",
      "3\n",
      "6\n",
      "10\n",
      "15\n",
      "21\n",
      "28\n",
      "36\n",
      "45\n",
      "55\n"
     ]
    }
   ],
   "source": [
    "list_sum = 0\n",
    "\n",
    "for num in mylist:\n",
    "    list_sum = list_sum + num\n",
    "    \n",
    "    print(list_sum)\n",
    "\n",
    "# Taking the print function out of the for loop would just display 55"
   ]
  },
  {
   "cell_type": "code",
   "execution_count": 36,
   "id": "7a5ea21f",
   "metadata": {},
   "outputs": [
    {
     "name": "stdout",
     "output_type": "stream",
     "text": [
      "H\n",
      "e\n",
      "l\n",
      "l\n",
      "o\n",
      " \n",
      "W\n",
      "o\n",
      "r\n",
      "l\n",
      "d\n"
     ]
    }
   ],
   "source": [
    "mystring = \"Hello World\"\n",
    "    \n",
    "for letter in mystring:\n",
    "    print(letter)"
   ]
  },
  {
   "cell_type": "code",
   "execution_count": 38,
   "id": "1a59839e",
   "metadata": {},
   "outputs": [
    {
     "name": "stdout",
     "output_type": "stream",
     "text": [
      "Hi!\n",
      "Hi!\n",
      "Hi!\n",
      "Hi!\n",
      "Hi!\n",
      "Hi!\n",
      "Hi!\n",
      "Hi!\n"
     ]
    }
   ],
   "source": [
    "newstring = \"Hi there\"\n",
    "\n",
    "for _ in newstring:\n",
    "    print(\"Hi!\")\n",
    "    \n",
    "# _ is commonly used for the variable name when the variable itself is not used when you iterate through objects"
   ]
  },
  {
   "cell_type": "code",
   "execution_count": 39,
   "id": "1489ee80",
   "metadata": {},
   "outputs": [],
   "source": [
    "mylist = [(1,2), (3,4), (5,6), (7,8)]"
   ]
  },
  {
   "cell_type": "code",
   "execution_count": 49,
   "id": "f9b869b5",
   "metadata": {},
   "outputs": [
    {
     "name": "stdout",
     "output_type": "stream",
     "text": [
      "1\n",
      "2\n",
      "3\n",
      "4\n",
      "5\n",
      "6\n",
      "7\n",
      "8\n"
     ]
    }
   ],
   "source": [
    "# Tuple unpacking using for loops\n",
    "for a,b in mylist:\n",
    "    print(a)\n",
    "    print(b)\n",
    "# when unpacking tuples, parentheses are optional"
   ]
  },
  {
   "cell_type": "code",
   "execution_count": 53,
   "id": "cbe403c2",
   "metadata": {},
   "outputs": [
    {
     "name": "stdout",
     "output_type": "stream",
     "text": [
      "k1\n",
      "k2\n",
      "k3\n",
      "1\n",
      "2\n",
      "3\n"
     ]
    }
   ],
   "source": [
    "# Iterating through a dictionary\n",
    "d = {'k1':1, 'k2':2, 'k3':3}\n",
    "\n",
    "# lists the keys\n",
    "for item in d:\n",
    "    print(item)\n",
    "    \n",
    "# to iterate through items, call .items() in the dictionary and indicate value in the variable \n",
    "for item,value in d.items():\n",
    "    print(value)\n",
    "    \n",
    "# for large dictionaries, you may not get your items back in the order you input them because dictionaries are unordered"
   ]
  },
  {
   "cell_type": "code",
   "execution_count": null,
   "id": "1a23aed6",
   "metadata": {},
   "outputs": [],
   "source": []
  },
  {
   "cell_type": "code",
   "execution_count": 55,
   "id": "77f4a17c",
   "metadata": {},
   "outputs": [],
   "source": [
    "# While loops\n",
    "# Execute a block of code while conditions are true\n",
    "# e.g. \"while my pool is not full, keep filling my poolk with water\"\n",
    "# or \"while my dogs are still hungry, keep feeding my dogs\"\n",
    "\n",
    "# while some_boolean_condition:\n",
    "    # do something\n",
    "# can be combined with elif and else statements"
   ]
  },
  {
   "cell_type": "code",
   "execution_count": 5,
   "id": "c50f0950",
   "metadata": {},
   "outputs": [
    {
     "name": "stdout",
     "output_type": "stream",
     "text": [
      "The value of x is 0\n",
      "The value of x is 1\n",
      "The value of x is 2\n",
      "The value of x is 3\n",
      "The value of x is 4\n",
      "The value of x is 5\n",
      "x is greater than 5\n"
     ]
    }
   ],
   "source": [
    "x = 0\n",
    "\n",
    "while x <= 5:\n",
    "    print(f\"The value of x is {x}\")\n",
    "    x = x + 1\n",
    "    \n",
    "else:\n",
    "    print(\"x is greater than 5\")\n",
    "    \n",
    "# infinite while loops require killing the kernel"
   ]
  },
  {
   "cell_type": "code",
   "execution_count": 6,
   "id": "b2798bec",
   "metadata": {},
   "outputs": [],
   "source": [
    "# break, continue, and pass\n",
    "# break: breaks out of current closest enclosing loop\n",
    "# continue: goes to the top of the closest enclosing loop\n",
    "# pass: does nothing at all (good for avoiding syntax errors when you don't want to test a block of code you've written)"
   ]
  },
  {
   "cell_type": "code",
   "execution_count": 10,
   "id": "bf36f44f",
   "metadata": {},
   "outputs": [
    {
     "name": "stdout",
     "output_type": "stream",
     "text": [
      "end of script\n"
     ]
    }
   ],
   "source": [
    "x = [1,2,3]\n",
    "\n",
    "for item in x:\n",
    "    pass\n",
    "\n",
    "print(\"end of script\")"
   ]
  },
  {
   "cell_type": "code",
   "execution_count": 16,
   "id": "441fe711",
   "metadata": {},
   "outputs": [],
   "source": [
    "mystring = \"Yusuke\""
   ]
  },
  {
   "cell_type": "code",
   "execution_count": 23,
   "id": "3b0f35d5",
   "metadata": {},
   "outputs": [
    {
     "name": "stdout",
     "output_type": "stream",
     "text": [
      "Y\n",
      "s\n",
      "k\n",
      "e\n"
     ]
    }
   ],
   "source": [
    "for letter in mystring:\n",
    "    if letter == 'u':\n",
    "        continue\n",
    "    print(letter)"
   ]
  },
  {
   "cell_type": "code",
   "execution_count": 26,
   "id": "46bc5672",
   "metadata": {},
   "outputs": [
    {
     "name": "stdout",
     "output_type": "stream",
     "text": [
      "0\n",
      "1\n",
      "2\n",
      "3\n"
     ]
    }
   ],
   "source": [
    "x = 0\n",
    "\n",
    "while x < 5:\n",
    "    if x == 4:\n",
    "        break\n",
    "    print(x)\n",
    "    x += 1"
   ]
  },
  {
   "cell_type": "code",
   "execution_count": null,
   "id": "103e5118",
   "metadata": {},
   "outputs": [],
   "source": [
    "# Iterating using the range() function"
   ]
  },
  {
   "cell_type": "code",
   "execution_count": 32,
   "id": "ee1a585b",
   "metadata": {},
   "outputs": [],
   "source": [
    "# Printing up to (but not including) a certain number:\n",
    "    # for num in range(10):\n",
    "        # print(num)\n",
    "    \n",
    "# Printing within a certain range:\n",
    "    # for num2 in range(3,10):\n",
    "        # print(num2)\n",
    "        \n",
    "# For printing every specified number within a range\n",
    "    # for num3 in range(0,20,3):\n",
    "        # print(num3)"
   ]
  },
  {
   "cell_type": "code",
   "execution_count": 34,
   "id": "ec8c3839",
   "metadata": {},
   "outputs": [
    {
     "data": {
      "text/plain": [
       "[0, 2, 4, 6, 8, 10]"
      ]
     },
     "execution_count": 34,
     "metadata": {},
     "output_type": "execute_result"
    }
   ],
   "source": [
    "# To generate sequential lists\n",
    "list(range(0,11,2))"
   ]
  },
  {
   "cell_type": "code",
   "execution_count": 44,
   "id": "c42054c5",
   "metadata": {},
   "outputs": [
    {
     "name": "stdout",
     "output_type": "stream",
     "text": [
      "0\n",
      "a\n",
      "\n",
      "\n",
      "1\n",
      "b\n",
      "\n",
      "\n",
      "2\n",
      "c\n",
      "\n",
      "\n",
      "3\n",
      "d\n",
      "\n",
      "\n",
      "4\n",
      "e\n",
      "\n",
      "\n"
     ]
    }
   ],
   "source": [
    "# iterating through strings\n",
    "index_count = 0\n",
    "\n",
    "# for letter in 'abcde':\n",
    "    # print(f'At index {index_count} letter is {letter}')\n",
    "    # index_count += 1\n",
    "    \n",
    "word = 'abcde'\n",
    "# for letter in word:\n",
    "    # print(word[index_count])\n",
    "    # index_count += 1\n",
    "    \n",
    "# the enumerate function displays string characters by index\n",
    "# for item in enumerate(word):\n",
    "    # print(item)\n",
    "    \n",
    "# the enumerate function generates tuples, which can be unpacked\n",
    "for index,letter in enumerate(word):\n",
    "    # print(index)\n",
    "    # print(letter)\n",
    "    # print('\\n')"
   ]
  },
  {
   "cell_type": "code",
   "execution_count": 50,
   "id": "a807d3ef",
   "metadata": {},
   "outputs": [
    {
     "name": "stdout",
     "output_type": "stream",
     "text": [
      "(1, 'a', 'red')\n",
      "(2, 'b', 'green')\n",
      "(3, 'c', 'blue')\n"
     ]
    },
    {
     "data": {
      "text/plain": [
       "[(1, 'a', 'red'), (2, 'b', 'green'), (3, 'c', 'blue')]"
      ]
     },
     "execution_count": 50,
     "metadata": {},
     "output_type": "execute_result"
    }
   ],
   "source": [
    "# The zip() function\n",
    "\n",
    "mylist1 = [1,2,3]\n",
    "mylist2 = ['a','b','c']\n",
    "mylist3 = ['red', 'green', 'blue']\n",
    "\n",
    "for item in zip(mylist1,mylist2,mylist3):\n",
    "    print(item)\n",
    "    \n",
    "# Zip() only iterates as far as the shortest list\n",
    "\n",
    "list(zip(mylist1,mylist2,mylist3))"
   ]
  },
  {
   "cell_type": "code",
   "execution_count": 57,
   "id": "ede580d4",
   "metadata": {},
   "outputs": [
    {
     "data": {
      "text/plain": [
       "True"
      ]
     },
     "execution_count": 57,
     "metadata": {},
     "output_type": "execute_result"
    }
   ],
   "source": [
    "# The 'in' operator allows you to check if an item is in a list using a boolean\n",
    "\n",
    "'x' in [1,2,3]\n",
    "# Returns false\n",
    "\n",
    "'x' in ['x','y','z']\n",
    "# returns true"
   ]
  },
  {
   "cell_type": "code",
   "execution_count": 60,
   "id": "79da4c01",
   "metadata": {},
   "outputs": [
    {
     "data": {
      "text/plain": [
       "True"
      ]
     },
     "execution_count": 60,
     "metadata": {},
     "output_type": "execute_result"
    }
   ],
   "source": [
    "# the 'in' operator also works for strings\n",
    "\n",
    "'e' in 'Hello world'\n",
    "# returns true"
   ]
  },
  {
   "cell_type": "code",
   "execution_count": 65,
   "id": "8cc2a963",
   "metadata": {},
   "outputs": [
    {
     "data": {
      "text/plain": [
       "True"
      ]
     },
     "execution_count": 65,
     "metadata": {},
     "output_type": "execute_result"
    }
   ],
   "source": [
    "# the 'in' operator for dictionaries\n",
    "d = {'key1':1, 'key2':2, 'key3':3}\n",
    "\n",
    "'key4' in d\n",
    "# returns false\n",
    "\n",
    "'key3' in d.keys()\n",
    "# returns true\n",
    "\n",
    "3 in d.values()\n",
    "# returns true"
   ]
  },
  {
   "cell_type": "code",
   "execution_count": 73,
   "id": "cee30536",
   "metadata": {},
   "outputs": [],
   "source": [
    "mylist = [10,20,30,40,50,100]"
   ]
  },
  {
   "cell_type": "code",
   "execution_count": 84,
   "id": "90186c4b",
   "metadata": {},
   "outputs": [
    {
     "name": "stdout",
     "output_type": "stream",
     "text": [
      "10\n",
      "100\n",
      "[10, 50, 40, 100, 20, 30]\n"
     ]
    },
    {
     "data": {
      "text/plain": [
       "70"
      ]
     },
     "execution_count": 84,
     "metadata": {},
     "output_type": "execute_result"
    }
   ],
   "source": [
    "print(min(mylist))\n",
    "# returns smallest value\n",
    "\n",
    "print(max(mylist))\n",
    "# returns largest value\n",
    "\n",
    "from random import shuffle\n",
    "# 'random' is a publicly-avalable Python library\n",
    "# the 'from' operator calls a library, the 'import' operator calls in a function\n",
    "# the shuffle function is obvious\n",
    "\n",
    "shuffle(mylist)\n",
    "\n",
    "print(mylist)\n",
    "\n",
    "from random import randint\n",
    "# 'randint' grabs a random item from a range\n",
    "\n",
    "randint(0,100)"
   ]
  },
  {
   "cell_type": "code",
   "execution_count": 86,
   "id": "1ed1cdb8",
   "metadata": {},
   "outputs": [
    {
     "name": "stdout",
     "output_type": "stream",
     "text": [
      "Enter a number here: 50\n"
     ]
    },
    {
     "data": {
      "text/plain": [
       "'50'"
      ]
     },
     "execution_count": 86,
     "metadata": {},
     "output_type": "execute_result"
    }
   ],
   "source": [
    "# the 'input' function allows for user input\n",
    "input('Enter a number here: ')"
   ]
  },
  {
   "cell_type": "code",
   "execution_count": 87,
   "id": "05f2e4b4",
   "metadata": {},
   "outputs": [],
   "source": []
  },
  {
   "cell_type": "code",
   "execution_count": 99,
   "id": "59e69e90",
   "metadata": {},
   "outputs": [],
   "source": [
    "# List Comprehensions are an alternative method of creating lists without using a For loop and .append()"
   ]
  },
  {
   "cell_type": "code",
   "execution_count": 113,
   "id": "910ff65f",
   "metadata": {},
   "outputs": [
    {
     "data": {
      "text/plain": [
       "['h', 'e', 'l', 'l', 'o']"
      ]
     },
     "execution_count": 113,
     "metadata": {},
     "output_type": "execute_result"
    }
   ],
   "source": [
    "mystring = \"hello\"\n",
    "mylist = []\n",
    "\n",
    "for letter in mystring:\n",
    "    mylist.append(letter)\n",
    "    \n",
    "mylist"
   ]
  },
  {
   "cell_type": "code",
   "execution_count": 114,
   "id": "20a83f97",
   "metadata": {},
   "outputs": [
    {
     "data": {
      "text/plain": [
       "['h', 'e', 'l', 'l', 'o']"
      ]
     },
     "execution_count": 114,
     "metadata": {},
     "output_type": "execute_result"
    }
   ],
   "source": [
    "mylist = [letter for letter in mystring]\n",
    "mylist"
   ]
  },
  {
   "cell_type": "code",
   "execution_count": 105,
   "id": "79563b10",
   "metadata": {},
   "outputs": [
    {
     "data": {
      "text/plain": [
       "[0, 1, 2, 3, 4, 5, 6, 7, 8, 9, 10]"
      ]
     },
     "execution_count": 105,
     "metadata": {},
     "output_type": "execute_result"
    }
   ],
   "source": [
    "mylist = [num for num in range(0,11)]\n",
    "mylist"
   ]
  },
  {
   "cell_type": "code",
   "execution_count": 108,
   "id": "580e7cc5",
   "metadata": {},
   "outputs": [
    {
     "data": {
      "text/plain": [
       "[0, 1, 4, 9, 16, 25, 36, 49, 64, 81, 100]"
      ]
     },
     "execution_count": 108,
     "metadata": {},
     "output_type": "execute_result"
    }
   ],
   "source": [
    "mylist = [num**2 for num in range(0,11)]\n",
    "mylist"
   ]
  },
  {
   "cell_type": "code",
   "execution_count": 110,
   "id": "fed28129",
   "metadata": {},
   "outputs": [
    {
     "data": {
      "text/plain": [
       "[0, 2, 4, 6, 8, 10]"
      ]
     },
     "execution_count": 110,
     "metadata": {},
     "output_type": "execute_result"
    }
   ],
   "source": [
    "mylist = [x for x in range(0,11) if x%2==0]\n",
    "mylist"
   ]
  },
  {
   "cell_type": "code",
   "execution_count": 115,
   "id": "e56c5243",
   "metadata": {},
   "outputs": [
    {
     "data": {
      "text/plain": [
       "[32.0, 50.0, 68.0, 94.1]"
      ]
     },
     "execution_count": 115,
     "metadata": {},
     "output_type": "execute_result"
    }
   ],
   "source": [
    "celsius = [0, 10, 20, 34.5]\n",
    "\n",
    "fahrenheit = [((9/5)*temp + 32) for temp in celsius]\n",
    "fahrenheit"
   ]
  },
  {
   "cell_type": "code",
   "execution_count": 118,
   "id": "0703f149",
   "metadata": {},
   "outputs": [
    {
     "data": {
      "text/plain": [
       "[0, 'odd', 2, 'odd', 4, 'odd', 6, 'odd', 8, 'odd', 10]"
      ]
     },
     "execution_count": 118,
     "metadata": {},
     "output_type": "execute_result"
    }
   ],
   "source": [
    "results = [x if x%2==0 else 'odd' for x in range(0,11)]\n",
    "results"
   ]
  },
  {
   "cell_type": "code",
   "execution_count": 121,
   "id": "e59d9e85",
   "metadata": {},
   "outputs": [
    {
     "data": {
      "text/plain": [
       "[2, 20, 200, 4, 40, 400, 6, 60, 600]"
      ]
     },
     "execution_count": 121,
     "metadata": {},
     "output_type": "execute_result"
    }
   ],
   "source": [
    "# Nested loops\n",
    "mylist = []\n",
    "for x in [2,4,6]:\n",
    "    for y in [1,10,100]:\n",
    "        mylist.append(x*y)\n",
    "mylist"
   ]
  },
  {
   "cell_type": "code",
   "execution_count": 123,
   "id": "62eb821f",
   "metadata": {},
   "outputs": [
    {
     "data": {
      "text/plain": [
       "[2, 20, 200, 4, 40, 400, 6, 60, 600]"
      ]
     },
     "execution_count": 123,
     "metadata": {},
     "output_type": "execute_result"
    }
   ],
   "source": [
    "mylist = [x*y for x in [2,4,6] for y in [1,10,100]]\n",
    "mylist"
   ]
  }
 ],
 "metadata": {
  "kernelspec": {
   "display_name": "Python 3",
   "language": "python",
   "name": "python3"
  },
  "language_info": {
   "codemirror_mode": {
    "name": "ipython",
    "version": 3
   },
   "file_extension": ".py",
   "mimetype": "text/x-python",
   "name": "python",
   "nbconvert_exporter": "python",
   "pygments_lexer": "ipython3",
   "version": "3.8.8"
  }
 },
 "nbformat": 4,
 "nbformat_minor": 5
}
